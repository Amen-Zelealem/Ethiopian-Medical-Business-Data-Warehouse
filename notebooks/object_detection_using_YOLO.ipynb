{
 "cells": [
  {
   "cell_type": "markdown",
   "metadata": {},
   "source": [
    "# **YOLOv5 Object Detection Notebook**"
   ]
  },
  {
   "cell_type": "markdown",
   "metadata": {},
   "source": [
    "**Import Necessary Libraries**"
   ]
  },
  {
   "cell_type": "code",
   "execution_count": null,
   "metadata": {},
   "outputs": [],
   "source": [
    "!pip install opencv-python\n",
    "!pip install torch torchvision  \n",
    "!pip install tensorflow  "
   ]
  },
  {
   "cell_type": "code",
   "execution_count": 1,
   "metadata": {},
   "outputs": [
    {
     "name": "stdout",
     "output_type": "stream",
     "text": [
      "2025-02-02 18:00:23,371 - INFO - ✅ Logging setup complete.\n"
     ]
    }
   ],
   "source": [
    "import logging\n",
    "import os\n",
    "import sys\n",
    "# Ensure logs folder exists\n",
    "os.makedirs(\"../logs\", exist_ok=True)\n",
    "\n",
    "# Configure logging to write to file & display in Jupyter Notebook\n",
    "logging.basicConfig(\n",
    "    level=logging.INFO,\n",
    "    format=\"%(asctime)s - %(levelname)s - %(message)s\",\n",
    "    handlers=[\n",
    "        logging.FileHandler(\"../logs/yolo_image_detection.log\", encoding='utf-8'),  \n",
    "        logging.StreamHandler(sys.stdout)  \n",
    "    ]\n",
    ")\n",
    "logging.info(\"✅ Logging setup complete.\")"
   ]
  },
  {
   "cell_type": "code",
   "execution_count": 2,
   "metadata": {},
   "outputs": [],
   "source": [
    "# Import libraries for file handling and data splitting\n",
    "import os\n",
    "import sys\n",
    "import random\n",
    "import shutil\n",
    "sys.path.append(os.path.abspath(os.path.join('..', 'scripts')))\n",
    "sys.path.append('../yolov5')  # Adjust the path based on your directory structure"
   ]
  },
  {
   "cell_type": "markdown",
   "metadata": {},
   "source": [
    "**Define Paths and Prepare Directories**\n",
    "\n",
    "We define the paths for the source images and create directories for the training and validation sets."
   ]
  },
  {
   "cell_type": "code",
   "execution_count": 3,
   "metadata": {},
   "outputs": [
    {
     "name": "stdout",
     "output_type": "stream",
     "text": [
      "Total images available: 236\n",
      "2025-02-02 18:00:27,538 - INFO - 236 total images available in ../data/images\n"
     ]
    }
   ],
   "source": [
    "# Define the directory paths\n",
    "image_dir = '../data/images'  # Directory containing all your images\n",
    "train_dir = '../data/train/images'  # Directory for training images\n",
    "val_dir = '../data/valid/images'  # Directory for validation images\n",
    "\n",
    "\n",
    "try:\n",
    "    # Create directories for train and validation sets if they don't exist\n",
    "    os.makedirs(train_dir, exist_ok=True)\n",
    "    os.makedirs(val_dir, exist_ok=True)\n",
    "    \n",
    "    # Print the number of images available\n",
    "    print(f\"Total images available: {len(os.listdir(image_dir))}\")\n",
    "    logging.info(f'{len(os.listdir(image_dir))} total images available in {image_dir}')\n",
    "except Exception as e:\n",
    "    logging.info(f'Error: {e}')\n"
   ]
  },
  {
   "cell_type": "markdown",
   "metadata": {},
   "source": [
    "**Split the Dataset**\n",
    "\n",
    "Split the images into training and validation datasets with a specified ratio (default is 80% training, 20% validation)."
   ]
  },
  {
   "cell_type": "code",
   "execution_count": 4,
   "metadata": {},
   "outputs": [
    {
     "name": "stdout",
     "output_type": "stream",
     "text": [
      "Training images: 188\n",
      "Validation images: 48\n",
      "2025-02-02 18:00:31,220 - INFO - ✅ Splited the dataset into train and validation sets.\n"
     ]
    }
   ],
   "source": [
    "def split_dataset(source_dir, train_dir, val_dir, split_ratio=0.8):\n",
    "    # List all images in the source directory\n",
    "    images = [f for f in os.listdir(source_dir) if f.endswith('.jpg')]\n",
    "    random.shuffle(images)  # Shuffle the images for random selection\n",
    "\n",
    "    # Calculate the split index\n",
    "    split_index = int(len(images) * split_ratio)\n",
    "    train_images = images[:split_index]\n",
    "    val_images = images[split_index:]\n",
    "\n",
    "    # Copy images to the respective directories\n",
    "    for image in train_images:\n",
    "        shutil.copy(os.path.join(source_dir, image), train_dir)\n",
    "    for image in val_images:\n",
    "        shutil.copy(os.path.join(source_dir, image), val_dir)\n",
    "    \n",
    "    print(f\"Training images: {len(train_images)}\")\n",
    "    print(f\"Validation images: {len(val_images)}\")\n",
    "\n",
    "\n",
    "if __name__=='__main__':\n",
    "    \n",
    "    try:\n",
    "        # Call the function to split the dataset\n",
    "        split_dataset(image_dir, train_dir, val_dir)\n",
    "        logging.info(f\"✅ Splited the dataset into train and validation sets.\")\n",
    "    except Exception as e:\n",
    "        logging.info(f'💥 Error: {e}')\n"
   ]
  },
  {
   "cell_type": "markdown",
   "metadata": {},
   "source": [
    "**Setup YOLOv5 Environment**\n",
    "\n",
    "Clone the YOLOv5 repository if it isn't already cloned, and install the necessary requirements.\n",
    "\n",
    "```! git clone https://github.com/ultralytics/yolov5.git```\n",
    "\n",
    "```%cd yolov5```\n",
    "\n",
    "```!pip install -r requirements.txt```"
   ]
  },
  {
   "cell_type": "code",
   "execution_count": 5,
   "metadata": {},
   "outputs": [
    {
     "name": "stderr",
     "output_type": "stream",
     "text": [
      "\u001b[34m\u001b[1mdetect: \u001b[0mweights=['yolov5m.pt'], source=../data/images/, data=..\\yolov5\\data\\coco128.yaml, imgsz=[640, 640], conf_thres=0.25, iou_thres=0.45, max_det=1000, device=, view_img=False, save_txt=True, save_format=0, save_csv=False, save_conf=True, save_crop=False, nosave=False, classes=None, agnostic_nms=False, augment=False, visualize=False, update=False, project=results, name=run1, exist_ok=False, line_thickness=3, hide_labels=False, hide_conf=False, half=False, dnn=False, vid_stride=1\n",
      "YOLOv5  v7.0-398-g5cdad892 Python-3.12.8 torch-2.6.0+cpu CPU\n",
      "\n",
      "Fusing layers... \n",
      "YOLOv5m summary: 290 layers, 21172173 parameters, 0 gradients, 48.9 GFLOPs\n",
      "image 1/236 D:\\KAIM\\Ethiopian-Medical-Business-Data-Warehouse\\data\\images\\_CheMed123_2022-09-05_09-57-09.jpg: 544x640 (no detections), 250.7ms\n",
      "image 2/236 D:\\KAIM\\Ethiopian-Medical-Business-Data-Warehouse\\data\\images\\_CheMed123_2022-09-05_10-02-05.jpg: 640x640 (no detections), 300.2ms\n",
      "image 3/236 D:\\KAIM\\Ethiopian-Medical-Business-Data-Warehouse\\data\\images\\_CheMed123_2022-09-05_10-02-24.jpg: 640x640 (no detections), 251.8ms\n",
      "image 4/236 D:\\KAIM\\Ethiopian-Medical-Business-Data-Warehouse\\data\\images\\_CheMed123_2022-09-06_04-26-15.jpg: 544x640 (no detections), 228.6ms\n",
      "image 5/236 D:\\KAIM\\Ethiopian-Medical-Business-Data-Warehouse\\data\\images\\_CheMed123_2022-09-07_09-16-40.jpg: 640x640 2 toilets, 242.9ms\n",
      "image 6/236 D:\\KAIM\\Ethiopian-Medical-Business-Data-Warehouse\\data\\images\\_CheMed123_2022-09-10_15-55-25.jpg: 640x640 (no detections), 277.5ms\n",
      "image 7/236 D:\\KAIM\\Ethiopian-Medical-Business-Data-Warehouse\\data\\images\\_CheMed123_2022-09-16_07-42-31.jpg: 640x640 1 sports ball, 5 hot dogs, 280.0ms\n",
      "image 8/236 D:\\KAIM\\Ethiopian-Medical-Business-Data-Warehouse\\data\\images\\_CheMed123_2022-09-28_05-45-31.jpg: 640x480 (no detections), 233.6ms\n",
      "image 9/236 D:\\KAIM\\Ethiopian-Medical-Business-Data-Warehouse\\data\\images\\_CheMed123_2022-09-30_07-33-42.jpg: 640x640 (no detections), 263.1ms\n",
      "image 10/236 D:\\KAIM\\Ethiopian-Medical-Business-Data-Warehouse\\data\\images\\_CheMed123_2022-10-03_05-16-30.jpg: 640x480 4 bottles, 198.0ms\n",
      "image 11/236 D:\\KAIM\\Ethiopian-Medical-Business-Data-Warehouse\\data\\images\\_CheMed123_2022-10-06_09-23-46.jpg: 544x640 (no detections), 238.2ms\n",
      "image 12/236 D:\\KAIM\\Ethiopian-Medical-Business-Data-Warehouse\\data\\images\\_CheMed123_2022-10-12_14-14-19.jpg: 480x640 2 persons, 3 chairs, 209.0ms\n",
      "image 13/236 D:\\KAIM\\Ethiopian-Medical-Business-Data-Warehouse\\data\\images\\_CheMed123_2022-10-12_14-14-52.jpg: 480x640 2 persons, 3 chairs, 222.9ms\n",
      "image 14/236 D:\\KAIM\\Ethiopian-Medical-Business-Data-Warehouse\\data\\images\\_CheMed123_2022-10-17_14-02-40.jpg: 640x640 (no detections), 276.1ms\n",
      "image 15/236 D:\\KAIM\\Ethiopian-Medical-Business-Data-Warehouse\\data\\images\\_CheMed123_2022-10-18_07-57-36.jpg: 544x640 2 cell phones, 229.8ms\n",
      "image 16/236 D:\\KAIM\\Ethiopian-Medical-Business-Data-Warehouse\\data\\images\\_CheMed123_2022-10-20_12-24-01.jpg: 544x640 1 cup, 1 cell phone, 1 clock, 240.0ms\n",
      "image 17/236 D:\\KAIM\\Ethiopian-Medical-Business-Data-Warehouse\\data\\images\\_CheMed123_2022-10-24_09-34-19.jpg: 544x640 1 person, 1 cell phone, 226.3ms\n",
      "image 18/236 D:\\KAIM\\Ethiopian-Medical-Business-Data-Warehouse\\data\\images\\_CheMed123_2022-10-28_06-49-36.jpg: 544x640 1 person, 237.3ms\n",
      "image 19/236 D:\\KAIM\\Ethiopian-Medical-Business-Data-Warehouse\\data\\images\\_CheMed123_2022-10-28_09-15-09.jpg: 544x640 (no detections), 222.7ms\n",
      "image 20/236 D:\\KAIM\\Ethiopian-Medical-Business-Data-Warehouse\\data\\images\\_CheMed123_2022-10-29_20-26-28.jpg: 640x480 1 person, 1 frisbee, 208.4ms\n",
      "image 21/236 D:\\KAIM\\Ethiopian-Medical-Business-Data-Warehouse\\data\\images\\_CheMed123_2022-11-09_08-53-25.jpg: 544x640 1 person, 1 clock, 215.5ms\n",
      "image 22/236 D:\\KAIM\\Ethiopian-Medical-Business-Data-Warehouse\\data\\images\\_CheMed123_2022-11-15_05-24-41.jpg: 640x480 4 bottles, 212.5ms\n",
      "image 23/236 D:\\KAIM\\Ethiopian-Medical-Business-Data-Warehouse\\data\\images\\_CheMed123_2022-11-15_08-17-41.jpg: 544x640 2 persons, 230.4ms\n",
      "image 24/236 D:\\KAIM\\Ethiopian-Medical-Business-Data-Warehouse\\data\\images\\_CheMed123_2022-11-15_11-51-16.jpg: 544x640 4 oranges, 210.0ms\n",
      "image 25/236 D:\\KAIM\\Ethiopian-Medical-Business-Data-Warehouse\\data\\images\\_CheMed123_2022-11-22_08-15-47.jpg: 544x640 (no detections), 216.0ms\n",
      "image 26/236 D:\\KAIM\\Ethiopian-Medical-Business-Data-Warehouse\\data\\images\\_CheMed123_2022-11-29_07-43-06.jpg: 544x640 (no detections), 236.7ms\n",
      "image 27/236 D:\\KAIM\\Ethiopian-Medical-Business-Data-Warehouse\\data\\images\\_CheMed123_2022-11-30_06-31-44.jpg: 320x640 9 mouses, 154.3ms\n",
      "image 28/236 D:\\KAIM\\Ethiopian-Medical-Business-Data-Warehouse\\data\\images\\_CheMed123_2022-12-01_06-47-22.jpg: 352x640 8 persons, 177.9ms\n",
      "image 29/236 D:\\KAIM\\Ethiopian-Medical-Business-Data-Warehouse\\data\\images\\_CheMed123_2022-12-02_06-06-12.jpg: 640x640 1 person, 263.7ms\n",
      "image 30/236 D:\\KAIM\\Ethiopian-Medical-Business-Data-Warehouse\\data\\images\\_CheMed123_2022-12-02_13-44-41.jpg: 640x640 1 person, 1 keyboard, 1 cell phone, 271.9ms\n",
      "image 31/236 D:\\KAIM\\Ethiopian-Medical-Business-Data-Warehouse\\data\\images\\_CheMed123_2022-12-04_12-35-18.jpg: 384x640 1 person, 1 cell phone, 182.9ms\n",
      "image 32/236 D:\\KAIM\\Ethiopian-Medical-Business-Data-Warehouse\\data\\images\\_CheMed123_2022-12-05_05-57-22.jpg: 640x640 (no detections), 248.2ms\n",
      "image 33/236 D:\\KAIM\\Ethiopian-Medical-Business-Data-Warehouse\\data\\images\\_CheMed123_2022-12-07_06-43-48.jpg: 640x640 2 persons, 2 sports balls, 275.7ms\n",
      "image 34/236 D:\\KAIM\\Ethiopian-Medical-Business-Data-Warehouse\\data\\images\\_CheMed123_2022-12-09_04-09-49.jpg: 640x640 1 stop sign, 281.6ms\n",
      "image 35/236 D:\\KAIM\\Ethiopian-Medical-Business-Data-Warehouse\\data\\images\\_CheMed123_2022-12-09_12-28-53.jpg: 640x640 1 banana, 278.9ms\n",
      "image 36/236 D:\\KAIM\\Ethiopian-Medical-Business-Data-Warehouse\\data\\images\\_CheMed123_2022-12-13_05-55-18.jpg: 640x640 (no detections), 262.9ms\n",
      "image 37/236 D:\\KAIM\\Ethiopian-Medical-Business-Data-Warehouse\\data\\images\\_CheMed123_2022-12-16_12-21-01.jpg: 640x640 4 persons, 1 horse, 1 tie, 284.7ms\n",
      "image 38/236 D:\\KAIM\\Ethiopian-Medical-Business-Data-Warehouse\\data\\images\\_CheMed123_2022-12-20_07-41-33.jpg: 544x640 1 person, 241.4ms\n",
      "image 39/236 D:\\KAIM\\Ethiopian-Medical-Business-Data-Warehouse\\data\\images\\_CheMed123_2022-12-20_11-28-59.jpg: 640x640 1 stop sign, 274.1ms\n",
      "image 40/236 D:\\KAIM\\Ethiopian-Medical-Business-Data-Warehouse\\data\\images\\_CheMed123_2022-12-20_17-25-05.jpg: 640x640 1 person, 1 cell phone, 278.2ms\n",
      "image 41/236 D:\\KAIM\\Ethiopian-Medical-Business-Data-Warehouse\\data\\images\\_CheMed123_2022-12-21_15-13-27.jpg: 384x640 1 person, 1 handbag, 5 potted plants, 146.0ms\n",
      "image 42/236 D:\\KAIM\\Ethiopian-Medical-Business-Data-Warehouse\\data\\images\\_CheMed123_2022-12-22_03-11-26.jpg: 544x640 1 bottle, 240.0ms\n",
      "image 43/236 D:\\KAIM\\Ethiopian-Medical-Business-Data-Warehouse\\data\\images\\_CheMed123_2022-12-22_06-40-25.jpg: 640x640 1 bottle, 265.5ms\n",
      "image 44/236 D:\\KAIM\\Ethiopian-Medical-Business-Data-Warehouse\\data\\images\\_CheMed123_2022-12-23_06-26-15.jpg: 640x640 (no detections), 273.4ms\n",
      "image 45/236 D:\\KAIM\\Ethiopian-Medical-Business-Data-Warehouse\\data\\images\\_CheMed123_2022-12-27_17-06-32.jpg: 640x640 2 persons, 1 banana, 1 clock, 275.0ms\n",
      "image 46/236 D:\\KAIM\\Ethiopian-Medical-Business-Data-Warehouse\\data\\images\\_CheMed123_2022-12-28_06-31-50.jpg: 640x640 1 stop sign, 336.4ms\n",
      "image 47/236 D:\\KAIM\\Ethiopian-Medical-Business-Data-Warehouse\\data\\images\\_CheMed123_2022-12-28_17-02-08.jpg: 640x384 1 person, 2 potted plants, 1 tv, 198.0ms\n",
      "image 48/236 D:\\KAIM\\Ethiopian-Medical-Business-Data-Warehouse\\data\\images\\_CheMed123_2022-12-30_15-45-35.jpg: 640x288 2 persons, 2 sports balls, 152.0ms\n",
      "image 49/236 D:\\KAIM\\Ethiopian-Medical-Business-Data-Warehouse\\data\\images\\_CheMed123_2023-01-02_07-02-55.jpg: 640x640 1 baseball bat, 227.8ms\n",
      "image 50/236 D:\\KAIM\\Ethiopian-Medical-Business-Data-Warehouse\\data\\images\\_CheMed123_2023-01-03_05-48-34.jpg: 640x640 1 person, 260.6ms\n",
      "image 51/236 D:\\KAIM\\Ethiopian-Medical-Business-Data-Warehouse\\data\\images\\_CheMed123_2023-01-03_17-49-48.jpg: 640x352 1 person, 1 sports ball, 1 chair, 165.5ms\n",
      "image 52/236 D:\\KAIM\\Ethiopian-Medical-Business-Data-Warehouse\\data\\images\\_CheMed123_2023-01-04_05-58-02.jpg: 640x640 4 bottles, 252.3ms\n",
      "image 53/236 D:\\KAIM\\Ethiopian-Medical-Business-Data-Warehouse\\data\\images\\_CheMed123_2023-01-06_06-05-01.jpg: 640x480 2 persons, 1 banana, 197.2ms\n",
      "image 54/236 D:\\KAIM\\Ethiopian-Medical-Business-Data-Warehouse\\data\\images\\_CheMed123_2023-01-06_09-31-17.jpg: 640x640 1 potted plant, 275.5ms\n",
      "image 55/236 D:\\KAIM\\Ethiopian-Medical-Business-Data-Warehouse\\data\\images\\_CheMed123_2023-01-06_16-06-21.jpg: 640x480 1 person, 1 bottle, 1 chair, 2 potted plants, 210.7ms\n",
      "image 56/236 D:\\KAIM\\Ethiopian-Medical-Business-Data-Warehouse\\data\\images\\_CheMed123_2023-01-13_09-44-14.jpg: 640x640 5 bottles, 279.1ms\n",
      "image 57/236 D:\\KAIM\\Ethiopian-Medical-Business-Data-Warehouse\\data\\images\\_CheMed123_2023-01-13_12-48-47.jpg: 640x640 5 bottles, 1 mouse, 271.7ms\n",
      "image 58/236 D:\\KAIM\\Ethiopian-Medical-Business-Data-Warehouse\\data\\images\\_CheMed123_2023-01-16_09-26-09.jpg: 640x640 (no detections), 275.4ms\n",
      "image 59/236 D:\\KAIM\\Ethiopian-Medical-Business-Data-Warehouse\\data\\images\\_CheMed123_2023-01-16_10-13-42.jpg: 640x640 1 person, 270.0ms\n",
      "image 60/236 D:\\KAIM\\Ethiopian-Medical-Business-Data-Warehouse\\data\\images\\_CheMed123_2023-01-16_13-41-35.jpg: 640x640 (no detections), 267.6ms\n",
      "image 61/236 D:\\KAIM\\Ethiopian-Medical-Business-Data-Warehouse\\data\\images\\_CheMed123_2023-01-17_08-43-12.jpg: 640x640 (no detections), 275.6ms\n",
      "image 62/236 D:\\KAIM\\Ethiopian-Medical-Business-Data-Warehouse\\data\\images\\_CheMed123_2023-01-23_10-39-20.jpg: 640x640 1 bottle, 273.8ms\n",
      "image 63/236 D:\\KAIM\\Ethiopian-Medical-Business-Data-Warehouse\\data\\images\\_CheMed123_2023-01-26_18-27-53.jpg: 640x640 (no detections), 282.1ms\n",
      "image 64/236 D:\\KAIM\\Ethiopian-Medical-Business-Data-Warehouse\\data\\images\\_CheMed123_2023-01-27_07-18-40.jpg: 640x640 1 person, 265.3ms\n",
      "image 65/236 D:\\KAIM\\Ethiopian-Medical-Business-Data-Warehouse\\data\\images\\_CheMed123_2023-01-30_09-45-25.jpg: 640x640 1 person, 1 cell phone, 277.7ms\n",
      "image 66/236 D:\\KAIM\\Ethiopian-Medical-Business-Data-Warehouse\\data\\images\\_CheMed123_2023-01-31_09-19-53.jpg: 640x640 1 person, 2 cups, 1 sandwich, 267.1ms\n",
      "image 67/236 D:\\KAIM\\Ethiopian-Medical-Business-Data-Warehouse\\data\\images\\_CheMed123_2023-02-01_08-59-37.jpg: 640x640 1 person, 1 cell phone, 284.3ms\n",
      "image 68/236 D:\\KAIM\\Ethiopian-Medical-Business-Data-Warehouse\\data\\images\\_CheMed123_2023-02-02_08-58-52.jpg: 640x640 (no detections), 267.5ms\n",
      "image 69/236 D:\\KAIM\\Ethiopian-Medical-Business-Data-Warehouse\\data\\images\\_CheMed123_2023-02-10_12-23-06.jpg: 640x640 (no detections), 269.8ms\n",
      "image 70/236 D:\\KAIM\\Ethiopian-Medical-Business-Data-Warehouse\\data\\images\\_lobelia4cosmetics_2024-12-21_14-02-40.jpg: 640x640 1 book, 276.2ms\n",
      "image 71/236 D:\\KAIM\\Ethiopian-Medical-Business-Data-Warehouse\\data\\images\\_lobelia4cosmetics_2024-12-21_14-19-12.jpg: 640x640 2 bottles, 3 oranges, 261.6ms\n",
      "image 72/236 D:\\KAIM\\Ethiopian-Medical-Business-Data-Warehouse\\data\\images\\_lobelia4cosmetics_2024-12-21_14-19-13.jpg: 640x640 (no detections), 424.8ms\n",
      "image 73/236 D:\\KAIM\\Ethiopian-Medical-Business-Data-Warehouse\\data\\images\\_lobelia4cosmetics_2024-12-21_15-42-40.jpg: 640x640 1 cake, 287.9ms\n",
      "image 74/236 D:\\KAIM\\Ethiopian-Medical-Business-Data-Warehouse\\data\\images\\_lobelia4cosmetics_2024-12-22_10-39-19.jpg: 640x640 (no detections), 265.2ms\n",
      "image 75/236 D:\\KAIM\\Ethiopian-Medical-Business-Data-Warehouse\\data\\images\\_lobelia4cosmetics_2024-12-22_10-39-20.jpg: 576x640 (no detections), 264.7ms\n",
      "image 76/236 D:\\KAIM\\Ethiopian-Medical-Business-Data-Warehouse\\data\\images\\_lobelia4cosmetics_2024-12-23_04-56-18.jpg: 640x640 2 bottles, 262.7ms\n",
      "image 77/236 D:\\KAIM\\Ethiopian-Medical-Business-Data-Warehouse\\data\\images\\_lobelia4cosmetics_2024-12-23_04-56-19.jpg: 640x640 (no detections), 258.7ms\n",
      "image 78/236 D:\\KAIM\\Ethiopian-Medical-Business-Data-Warehouse\\data\\images\\_lobelia4cosmetics_2024-12-24_06-32-04.jpg: 640x480 1 bottle, 206.2ms\n",
      "image 79/236 D:\\KAIM\\Ethiopian-Medical-Business-Data-Warehouse\\data\\images\\_lobelia4cosmetics_2024-12-24_06-32-05.jpg: 640x608 1 apple, 4 oranges, 277.6ms\n",
      "image 80/236 D:\\KAIM\\Ethiopian-Medical-Business-Data-Warehouse\\data\\images\\_lobelia4cosmetics_2024-12-24_06-32-06.jpg: 640x480 4 books, 202.5ms\n",
      "image 81/236 D:\\KAIM\\Ethiopian-Medical-Business-Data-Warehouse\\data\\images\\_lobelia4cosmetics_2024-12-24_15-36-45.jpg: 640x640 (no detections), 280.7ms\n",
      "image 82/236 D:\\KAIM\\Ethiopian-Medical-Business-Data-Warehouse\\data\\images\\_lobelia4cosmetics_2024-12-24_15-36-46.jpg: 640x640 1 cup, 268.2ms\n",
      "image 83/236 D:\\KAIM\\Ethiopian-Medical-Business-Data-Warehouse\\data\\images\\_lobelia4cosmetics_2024-12-24_16-15-23.jpg: 640x640 (no detections), 272.5ms\n",
      "image 84/236 D:\\KAIM\\Ethiopian-Medical-Business-Data-Warehouse\\data\\images\\_lobelia4cosmetics_2024-12-25_06-05-10.jpg: 640x640 1 bottle, 251.7ms\n",
      "image 85/236 D:\\KAIM\\Ethiopian-Medical-Business-Data-Warehouse\\data\\images\\_lobelia4cosmetics_2024-12-25_06-05-11.jpg: 640x640 1 bottle, 260.2ms\n",
      "image 86/236 D:\\KAIM\\Ethiopian-Medical-Business-Data-Warehouse\\data\\images\\_lobelia4cosmetics_2024-12-25_06-05-12.jpg: 640x640 (no detections), 279.4ms\n",
      "image 87/236 D:\\KAIM\\Ethiopian-Medical-Business-Data-Warehouse\\data\\images\\_lobelia4cosmetics_2024-12-25_13-01-38.jpg: 640x640 (no detections), 255.4ms\n",
      "image 88/236 D:\\KAIM\\Ethiopian-Medical-Business-Data-Warehouse\\data\\images\\_lobelia4cosmetics_2024-12-25_13-01-39.jpg: 640x640 (no detections), 257.9ms\n",
      "image 89/236 D:\\KAIM\\Ethiopian-Medical-Business-Data-Warehouse\\data\\images\\_lobelia4cosmetics_2024-12-26_06-26-42.jpg: 640x640 2 bottles, 3 oranges, 253.6ms\n",
      "image 90/236 D:\\KAIM\\Ethiopian-Medical-Business-Data-Warehouse\\data\\images\\_lobelia4cosmetics_2024-12-26_06-26-43.jpg: 640x640 1 stop sign, 238.0ms\n",
      "image 91/236 D:\\KAIM\\Ethiopian-Medical-Business-Data-Warehouse\\data\\images\\_lobelia4cosmetics_2024-12-26_06-26-44.jpg: 640x640 (no detections), 246.6ms\n",
      "image 92/236 D:\\KAIM\\Ethiopian-Medical-Business-Data-Warehouse\\data\\images\\_lobelia4cosmetics_2024-12-26_12-16-37.jpg: 640x640 1 cake, 248.8ms\n",
      "image 93/236 D:\\KAIM\\Ethiopian-Medical-Business-Data-Warehouse\\data\\images\\_lobelia4cosmetics_2024-12-26_13-24-56.jpg: 640x640 (no detections), 252.9ms\n",
      "image 94/236 D:\\KAIM\\Ethiopian-Medical-Business-Data-Warehouse\\data\\images\\_lobelia4cosmetics_2024-12-26_13-24-57.jpg: 640x640 6 persons, 1 bottle, 229.6ms\n",
      "image 95/236 D:\\KAIM\\Ethiopian-Medical-Business-Data-Warehouse\\data\\images\\_lobelia4cosmetics_2024-12-26_13-24-58.jpg: 640x640 3 suitcases, 218.3ms\n",
      "image 96/236 D:\\KAIM\\Ethiopian-Medical-Business-Data-Warehouse\\data\\images\\_lobelia4cosmetics_2024-12-26_16-07-45.jpg: 640x640 (no detections), 225.1ms\n",
      "image 97/236 D:\\KAIM\\Ethiopian-Medical-Business-Data-Warehouse\\data\\images\\_lobelia4cosmetics_2024-12-26_16-16-17.jpg: 640x640 1 vase, 258.6ms\n",
      "image 98/236 D:\\KAIM\\Ethiopian-Medical-Business-Data-Warehouse\\data\\images\\_lobelia4cosmetics_2024-12-27_06-43-51.jpg: 640x480 4 books, 190.0ms\n",
      "image 99/236 D:\\KAIM\\Ethiopian-Medical-Business-Data-Warehouse\\data\\images\\_lobelia4cosmetics_2024-12-27_13-02-29.jpg: 640x640 1 bottle, 261.7ms\n",
      "image 100/236 D:\\KAIM\\Ethiopian-Medical-Business-Data-Warehouse\\data\\images\\_lobelia4cosmetics_2024-12-27_13-02-30.jpg: 640x640 1 book, 273.8ms\n",
      "image 101/236 D:\\KAIM\\Ethiopian-Medical-Business-Data-Warehouse\\data\\images\\_lobelia4cosmetics_2024-12-28_05-07-40.jpg: 640x640 (no detections), 238.5ms\n",
      "image 102/236 D:\\KAIM\\Ethiopian-Medical-Business-Data-Warehouse\\data\\images\\_lobelia4cosmetics_2024-12-28_12-28-57.jpg: 640x640 2 bottles, 3 oranges, 216.0ms\n",
      "image 103/236 D:\\KAIM\\Ethiopian-Medical-Business-Data-Warehouse\\data\\images\\_lobelia4cosmetics_2024-12-28_12-28-58.jpg: 640x640 1 cup, 1 knife, 1 cake, 1 vase, 209.8ms\n",
      "image 104/236 D:\\KAIM\\Ethiopian-Medical-Business-Data-Warehouse\\data\\images\\_lobelia4cosmetics_2024-12-28_12-39-07.jpg: 640x640 (no detections), 202.3ms\n",
      "image 105/236 D:\\KAIM\\Ethiopian-Medical-Business-Data-Warehouse\\data\\images\\_lobelia4cosmetics_2024-12-29_06-53-10.jpg: 640x640 1 banana, 1 apple, 1 orange, 227.8ms\n",
      "image 106/236 D:\\KAIM\\Ethiopian-Medical-Business-Data-Warehouse\\data\\images\\_lobelia4cosmetics_2024-12-29_06-53-11.jpg: 640x640 (no detections), 212.3ms\n",
      "image 107/236 D:\\KAIM\\Ethiopian-Medical-Business-Data-Warehouse\\data\\images\\_lobelia4cosmetics_2024-12-30_05-12-24.jpg: 640x640 (no detections), 254.1ms\n",
      "image 108/236 D:\\KAIM\\Ethiopian-Medical-Business-Data-Warehouse\\data\\images\\_lobelia4cosmetics_2024-12-30_05-12-25.jpg: 480x640 (no detections), 187.1ms\n",
      "image 109/236 D:\\KAIM\\Ethiopian-Medical-Business-Data-Warehouse\\data\\images\\_lobelia4cosmetics_2024-12-30_12-04-14.jpg: 576x640 (no detections), 212.2ms\n",
      "image 110/236 D:\\KAIM\\Ethiopian-Medical-Business-Data-Warehouse\\data\\images\\_lobelia4cosmetics_2024-12-30_12-04-15.jpg: 640x640 (no detections), 213.1ms\n",
      "image 111/236 D:\\KAIM\\Ethiopian-Medical-Business-Data-Warehouse\\data\\images\\_lobelia4cosmetics_2024-12-30_12-49-00.jpg: 640x640 1 bottle, 237.3ms\n",
      "image 112/236 D:\\KAIM\\Ethiopian-Medical-Business-Data-Warehouse\\data\\images\\_lobelia4cosmetics_2024-12-30_14-53-00.jpg: 640x640 1 bottle, 266.4ms\n",
      "image 113/236 D:\\KAIM\\Ethiopian-Medical-Business-Data-Warehouse\\data\\images\\_lobelia4cosmetics_2024-12-30_14-53-31.jpg: 640x640 1 bottle, 260.8ms\n",
      "image 114/236 D:\\KAIM\\Ethiopian-Medical-Business-Data-Warehouse\\data\\images\\_lobelia4cosmetics_2024-12-31_06-04-17.jpg: 640x448 2 vases, 212.7ms\n",
      "image 115/236 D:\\KAIM\\Ethiopian-Medical-Business-Data-Warehouse\\data\\images\\_lobelia4cosmetics_2024-12-31_06-12-43.jpg: 640x640 1 cake, 252.3ms\n",
      "image 116/236 D:\\KAIM\\Ethiopian-Medical-Business-Data-Warehouse\\data\\images\\_lobelia4cosmetics_2024-12-31_11-36-47.jpg: 576x640 (no detections), 235.2ms\n",
      "image 117/236 D:\\KAIM\\Ethiopian-Medical-Business-Data-Warehouse\\data\\images\\_lobelia4cosmetics_2024-12-31_11-36-48.jpg: 640x640 (no detections), 227.7ms\n",
      "image 118/236 D:\\KAIM\\Ethiopian-Medical-Business-Data-Warehouse\\data\\images\\_lobelia4cosmetics_2024-12-31_13-57-01.jpg: 640x640 (no detections), 261.5ms\n",
      "image 119/236 D:\\KAIM\\Ethiopian-Medical-Business-Data-Warehouse\\data\\images\\_lobelia4cosmetics_2024-12-31_13-57-02.jpg: 640x640 (no detections), 268.7ms\n",
      "image 120/236 D:\\KAIM\\Ethiopian-Medical-Business-Data-Warehouse\\data\\images\\_lobelia4cosmetics_2024-12-31_14-20-52.jpg: 640x640 1 bottle, 258.9ms\n",
      "image 121/236 D:\\KAIM\\Ethiopian-Medical-Business-Data-Warehouse\\data\\images\\_lobelia4cosmetics_2024-12-31_16-19-36.jpg: 640x640 (no detections), 223.5ms\n",
      "image 122/236 D:\\KAIM\\Ethiopian-Medical-Business-Data-Warehouse\\data\\images\\_lobelia4cosmetics_2025-01-01_04-40-26.jpg: 544x640 (no detections), 217.0ms\n",
      "image 123/236 D:\\KAIM\\Ethiopian-Medical-Business-Data-Warehouse\\data\\images\\_lobelia4cosmetics_2025-01-01_13-02-24.jpg: 640x640 1 person, 222.3ms\n",
      "image 124/236 D:\\KAIM\\Ethiopian-Medical-Business-Data-Warehouse\\data\\images\\_lobelia4cosmetics_2025-01-01_13-02-25.jpg: 512x640 (no detections), 215.7ms\n",
      "image 125/236 D:\\KAIM\\Ethiopian-Medical-Business-Data-Warehouse\\data\\images\\_lobelia4cosmetics_2025-01-01_14-26-16.jpg: 640x640 1 pizza, 263.9ms\n",
      "image 126/236 D:\\KAIM\\Ethiopian-Medical-Business-Data-Warehouse\\data\\images\\_lobelia4cosmetics_2025-01-01_14-35-19.jpg: 640x640 1 cat, 273.2ms\n",
      "image 127/236 D:\\KAIM\\Ethiopian-Medical-Business-Data-Warehouse\\data\\images\\_lobelia4cosmetics_2025-01-01_14-35-39.jpg: 640x640 7 donuts, 16 cakes, 272.2ms\n",
      "image 128/236 D:\\KAIM\\Ethiopian-Medical-Business-Data-Warehouse\\data\\images\\_lobelia4cosmetics_2025-01-02_04-03-52.jpg: 544x640 (no detections), 225.0ms\n",
      "image 129/236 D:\\KAIM\\Ethiopian-Medical-Business-Data-Warehouse\\data\\images\\_lobelia4cosmetics_2025-01-02_04-03-53.jpg: 640x640 1 book, 272.4ms\n",
      "image 130/236 D:\\KAIM\\Ethiopian-Medical-Business-Data-Warehouse\\data\\images\\_lobelia4cosmetics_2025-01-02_13-29-08.jpg: 640x640 1 person, 1 bowl, 1 banana, 282.7ms\n",
      "image 131/236 D:\\KAIM\\Ethiopian-Medical-Business-Data-Warehouse\\data\\images\\_lobelia4cosmetics_2025-01-03_04-00-51.jpg: 640x640 1 bottle, 265.5ms\n",
      "image 132/236 D:\\KAIM\\Ethiopian-Medical-Business-Data-Warehouse\\data\\images\\_lobelia4cosmetics_2025-01-03_13-55-48.jpg: 640x640 1 vase, 348.0ms\n",
      "image 133/236 D:\\KAIM\\Ethiopian-Medical-Business-Data-Warehouse\\data\\images\\_lobelia4cosmetics_2025-01-03_13-55-49.jpg: 640x640 1 person, 250.2ms\n",
      "image 134/236 D:\\KAIM\\Ethiopian-Medical-Business-Data-Warehouse\\data\\images\\_lobelia4cosmetics_2025-01-03_13-59-36.jpg: 640x640 (no detections), 272.4ms\n",
      "image 135/236 D:\\KAIM\\Ethiopian-Medical-Business-Data-Warehouse\\data\\images\\_lobelia4cosmetics_2025-01-04_06-46-21.jpg: 640x640 1 bowl, 2 bananas, 279.2ms\n",
      "image 136/236 D:\\KAIM\\Ethiopian-Medical-Business-Data-Warehouse\\data\\images\\_lobelia4cosmetics_2025-01-04_06-46-22.jpg: 640x640 (no detections), 286.3ms\n",
      "image 137/236 D:\\KAIM\\Ethiopian-Medical-Business-Data-Warehouse\\data\\images\\_lobelia4cosmetics_2025-01-04_14-35-49.jpg: 640x640 1 bottle, 284.7ms\n",
      "image 138/236 D:\\KAIM\\Ethiopian-Medical-Business-Data-Warehouse\\data\\images\\_lobelia4cosmetics_2025-01-05_07-46-14.jpg: 640x640 1 stop sign, 284.7ms\n",
      "image 139/236 D:\\KAIM\\Ethiopian-Medical-Business-Data-Warehouse\\data\\images\\_lobelia4cosmetics_2025-01-06_07-19-40.jpg: 640x640 1 donut, 298.8ms\n",
      "image 140/236 D:\\KAIM\\Ethiopian-Medical-Business-Data-Warehouse\\data\\images\\_lobelia4cosmetics_2025-01-06_07-19-41.jpg: 640x640 7 donuts, 16 cakes, 303.9ms\n",
      "image 141/236 D:\\KAIM\\Ethiopian-Medical-Business-Data-Warehouse\\data\\images\\_lobelia4cosmetics_2025-01-08_04-25-08.jpg: 640x640 (no detections), 283.9ms\n",
      "image 142/236 D:\\KAIM\\Ethiopian-Medical-Business-Data-Warehouse\\data\\images\\_lobelia4cosmetics_2025-01-08_14-37-13.jpg: 640x640 1 bottle, 286.1ms\n",
      "image 143/236 D:\\KAIM\\Ethiopian-Medical-Business-Data-Warehouse\\data\\images\\_lobelia4cosmetics_2025-01-08_14-41-59.jpg: 640x512 1 cell phone, 254.9ms\n",
      "image 144/236 D:\\KAIM\\Ethiopian-Medical-Business-Data-Warehouse\\data\\images\\_lobelia4cosmetics_2025-01-09_14-22-55.jpg: 640x640 1 stop sign, 311.3ms\n",
      "image 145/236 D:\\KAIM\\Ethiopian-Medical-Business-Data-Warehouse\\data\\images\\_lobelia4cosmetics_2025-01-09_14-46-27.jpg: 640x640 1 bottle, 260.2ms\n",
      "image 146/236 D:\\KAIM\\Ethiopian-Medical-Business-Data-Warehouse\\data\\images\\_lobelia4cosmetics_2025-01-09_14-46-52.jpg: 640x544 (no detections), 240.7ms\n",
      "image 147/236 D:\\KAIM\\Ethiopian-Medical-Business-Data-Warehouse\\data\\images\\_lobelia4cosmetics_2025-01-10_06-27-15.jpg: 640x640 (no detections), 293.8ms\n",
      "image 148/236 D:\\KAIM\\Ethiopian-Medical-Business-Data-Warehouse\\data\\images\\_lobelia4cosmetics_2025-01-10_06-27-16.jpg: 640x640 1 bottle, 257.6ms\n",
      "image 149/236 D:\\KAIM\\Ethiopian-Medical-Business-Data-Warehouse\\data\\images\\_lobelia4cosmetics_2025-01-10_11-00-28.jpg: 576x640 (no detections), 251.0ms\n",
      "image 150/236 D:\\KAIM\\Ethiopian-Medical-Business-Data-Warehouse\\data\\images\\_lobelia4cosmetics_2025-01-10_11-00-29.jpg: 640x640 (no detections), 280.7ms\n",
      "image 151/236 D:\\KAIM\\Ethiopian-Medical-Business-Data-Warehouse\\data\\images\\_lobelia4cosmetics_2025-01-11_06-44-46.jpg: 640x640 1 donut, 273.6ms\n",
      "image 152/236 D:\\KAIM\\Ethiopian-Medical-Business-Data-Warehouse\\data\\images\\_lobelia4cosmetics_2025-01-11_06-44-47.jpg: 640x544 (no detections), 224.6ms\n",
      "image 153/236 D:\\KAIM\\Ethiopian-Medical-Business-Data-Warehouse\\data\\images\\_lobelia4cosmetics_2025-01-11_11-33-31.jpg: 640x640 1 bottle, 264.8ms\n",
      "image 154/236 D:\\KAIM\\Ethiopian-Medical-Business-Data-Warehouse\\data\\images\\_lobelia4cosmetics_2025-01-11_11-35-01.jpg: 640x640 1 parking meter, 259.9ms\n",
      "image 155/236 D:\\KAIM\\Ethiopian-Medical-Business-Data-Warehouse\\data\\images\\_lobelia4cosmetics_2025-01-11_11-35-39.jpg: 640x640 2 books, 280.8ms\n",
      "image 156/236 D:\\KAIM\\Ethiopian-Medical-Business-Data-Warehouse\\data\\images\\_lobelia4cosmetics_2025-01-11_11-36-26.jpg: 640x608 1 bottle, 272.1ms\n",
      "image 157/236 D:\\KAIM\\Ethiopian-Medical-Business-Data-Warehouse\\data\\images\\_lobelia4cosmetics_2025-01-11_13-44-33.jpg: 640x640 (no detections), 264.0ms\n",
      "image 158/236 D:\\KAIM\\Ethiopian-Medical-Business-Data-Warehouse\\data\\images\\_lobelia4cosmetics_2025-01-11_13-44-34.jpg: 640x640 (no detections), 275.1ms\n",
      "image 159/236 D:\\KAIM\\Ethiopian-Medical-Business-Data-Warehouse\\data\\images\\_lobelia4cosmetics_2025-01-13_06-24-13.jpg: 576x640 (no detections), 233.4ms\n",
      "image 160/236 D:\\KAIM\\Ethiopian-Medical-Business-Data-Warehouse\\data\\images\\_lobelia4cosmetics_2025-01-13_06-24-14.jpg: 640x640 1 book, 265.4ms\n",
      "image 161/236 D:\\KAIM\\Ethiopian-Medical-Business-Data-Warehouse\\data\\images\\_lobelia4cosmetics_2025-01-13_13-41-17.jpg: 640x640 (no detections), 270.3ms\n",
      "image 162/236 D:\\KAIM\\Ethiopian-Medical-Business-Data-Warehouse\\data\\images\\_lobelia4cosmetics_2025-01-13_13-41-44.jpg: 640x480 4 books, 210.3ms\n",
      "image 163/236 D:\\KAIM\\Ethiopian-Medical-Business-Data-Warehouse\\data\\images\\_lobelia4cosmetics_2025-01-13_13-48-54.jpg: 640x640 1 bottle, 312.1ms\n",
      "image 164/236 D:\\KAIM\\Ethiopian-Medical-Business-Data-Warehouse\\data\\images\\_lobelia4cosmetics_2025-01-13_13-48-55.jpg: 640x608 1 bottle, 248.4ms\n",
      "image 165/236 D:\\KAIM\\Ethiopian-Medical-Business-Data-Warehouse\\data\\images\\_lobelia4cosmetics_2025-01-14_04-17-06.jpg: 640x640 1 bottle, 273.4ms\n",
      "image 166/236 D:\\KAIM\\Ethiopian-Medical-Business-Data-Warehouse\\data\\images\\_lobelia4cosmetics_2025-01-14_14-59-27.jpg: 640x640 (no detections), 317.2ms\n",
      "image 167/236 D:\\KAIM\\Ethiopian-Medical-Business-Data-Warehouse\\data\\images\\_lobelia4cosmetics_2025-01-15_05-52-37.jpg: 640x640 (no detections), 285.7ms\n",
      "image 168/236 D:\\KAIM\\Ethiopian-Medical-Business-Data-Warehouse\\data\\images\\_lobelia4cosmetics_2025-01-15_05-52-38.jpg: 640x640 (no detections), 261.9ms\n",
      "image 169/236 D:\\KAIM\\Ethiopian-Medical-Business-Data-Warehouse\\data\\images\\_lobelia4cosmetics_2025-01-15_05-52-39.jpg: 640x640 1 bottle, 263.3ms\n",
      "image 170/236 D:\\KAIM\\Ethiopian-Medical-Business-Data-Warehouse\\data\\images\\_lobelia4cosmetics_2025-01-15_12-39-04.jpg: 640x640 (no detections), 253.1ms\n",
      "image 171/236 D:\\KAIM\\Ethiopian-Medical-Business-Data-Warehouse\\data\\images\\_lobelia4cosmetics_2025-01-15_14-52-29.jpg: 640x640 1 parking meter, 275.5ms\n",
      "image 172/236 D:\\KAIM\\Ethiopian-Medical-Business-Data-Warehouse\\data\\images\\_lobelia4cosmetics_2025-01-15_14-53-39.jpg: 640x640 1 bottle, 267.2ms\n",
      "image 173/236 D:\\KAIM\\Ethiopian-Medical-Business-Data-Warehouse\\data\\images\\_lobelia4cosmetics_2025-01-15_14-54-08.jpg: 640x640 (no detections), 229.4ms\n",
      "image 174/236 D:\\KAIM\\Ethiopian-Medical-Business-Data-Warehouse\\data\\images\\_lobelia4cosmetics_2025-01-16_05-01-16.jpg: 640x640 1 book, 267.2ms\n",
      "image 175/236 D:\\KAIM\\Ethiopian-Medical-Business-Data-Warehouse\\data\\images\\_lobelia4cosmetics_2025-01-16_12-01-33.jpg: 640x640 3 suitcases, 5 bottles, 281.1ms\n",
      "image 176/236 D:\\KAIM\\Ethiopian-Medical-Business-Data-Warehouse\\data\\images\\_lobelia4cosmetics_2025-01-17_06-35-48.jpg: 640x640 (no detections), 292.7ms\n",
      "image 177/236 D:\\KAIM\\Ethiopian-Medical-Business-Data-Warehouse\\data\\images\\_lobelia4cosmetics_2025-01-17_06-35-49.jpg: 640x640 (no detections), 261.3ms\n",
      "image 178/236 D:\\KAIM\\Ethiopian-Medical-Business-Data-Warehouse\\data\\images\\_lobelia4cosmetics_2025-01-17_08-01-35.jpg: 640x640 1 bottle, 272.3ms\n",
      "image 179/236 D:\\KAIM\\Ethiopian-Medical-Business-Data-Warehouse\\data\\images\\_lobelia4cosmetics_2025-01-17_08-01-36.jpg: 640x640 (no detections), 274.1ms\n",
      "image 180/236 D:\\KAIM\\Ethiopian-Medical-Business-Data-Warehouse\\data\\images\\_lobelia4cosmetics_2025-01-17_15-25-09.jpg: 640x640 1 person, 270.9ms\n",
      "image 181/236 D:\\KAIM\\Ethiopian-Medical-Business-Data-Warehouse\\data\\images\\_lobelia4cosmetics_2025-01-18_05-40-49.jpg: 640x608 1 apple, 4 oranges, 269.7ms\n",
      "image 182/236 D:\\KAIM\\Ethiopian-Medical-Business-Data-Warehouse\\data\\images\\_lobelia4cosmetics_2025-01-18_05-40-50.jpg: 640x640 (no detections), 266.2ms\n",
      "image 183/236 D:\\KAIM\\Ethiopian-Medical-Business-Data-Warehouse\\data\\images\\_lobelia4cosmetics_2025-01-18_05-40-51.jpg: 640x640 (no detections), 266.9ms\n",
      "image 184/236 D:\\KAIM\\Ethiopian-Medical-Business-Data-Warehouse\\data\\images\\_lobelia4cosmetics_2025-01-18_12-07-30.jpg: 640x640 1 cat, 313.7ms\n",
      "image 185/236 D:\\KAIM\\Ethiopian-Medical-Business-Data-Warehouse\\data\\images\\_lobelia4cosmetics_2025-01-20_05-42-06.jpg: 640x640 (no detections), 278.3ms\n",
      "image 186/236 D:\\KAIM\\Ethiopian-Medical-Business-Data-Warehouse\\data\\images\\_lobelia4cosmetics_2025-01-20_05-42-07.jpg: 640x640 (no detections), 236.7ms\n",
      "image 187/236 D:\\KAIM\\Ethiopian-Medical-Business-Data-Warehouse\\data\\images\\_lobelia4cosmetics_2025-01-21_04-06-17.jpg: 640x640 (no detections), 274.7ms\n",
      "image 188/236 D:\\KAIM\\Ethiopian-Medical-Business-Data-Warehouse\\data\\images\\_lobelia4cosmetics_2025-01-21_14-57-15.jpg: 640x640 1 donut, 273.6ms\n",
      "image 189/236 D:\\KAIM\\Ethiopian-Medical-Business-Data-Warehouse\\data\\images\\_lobelia4cosmetics_2025-01-21_14-57-16.jpg: 640x640 1 bottle, 255.2ms\n",
      "image 190/236 D:\\KAIM\\Ethiopian-Medical-Business-Data-Warehouse\\data\\images\\_lobelia4cosmetics_2025-01-22_06-03-40.jpg: 640x640 (no detections), 275.1ms\n",
      "image 191/236 D:\\KAIM\\Ethiopian-Medical-Business-Data-Warehouse\\data\\images\\_lobelia4cosmetics_2025-01-22_06-03-41.jpg: 640x640 3 suitcases, 258.8ms\n",
      "image 192/236 D:\\KAIM\\Ethiopian-Medical-Business-Data-Warehouse\\data\\images\\_lobelia4cosmetics_2025-01-22_11-15-33.jpg: 640x640 1 cup, 1 knife, 1 cake, 1 vase, 256.8ms\n",
      "image 193/236 D:\\KAIM\\Ethiopian-Medical-Business-Data-Warehouse\\data\\images\\_lobelia4cosmetics_2025-01-23_05-01-22.jpg: 640x640 1 bottle, 255.7ms\n",
      "image 194/236 D:\\KAIM\\Ethiopian-Medical-Business-Data-Warehouse\\data\\images\\_lobelia4cosmetics_2025-01-23_10-58-37.jpg: 640x640 (no detections), 260.0ms\n",
      "image 195/236 D:\\KAIM\\Ethiopian-Medical-Business-Data-Warehouse\\data\\images\\_lobelia4cosmetics_2025-01-23_12-17-07.jpg: 640x640 (no detections), 257.1ms\n",
      "image 196/236 D:\\KAIM\\Ethiopian-Medical-Business-Data-Warehouse\\data\\images\\_lobelia4cosmetics_2025-01-23_12-17-08.jpg: 640x640 1 bottle, 1 cup, 280.8ms\n",
      "image 197/236 D:\\KAIM\\Ethiopian-Medical-Business-Data-Warehouse\\data\\images\\_lobelia4cosmetics_2025-01-24_05-58-43.jpg: 640x640 1 refrigerator, 269.5ms\n",
      "image 198/236 D:\\KAIM\\Ethiopian-Medical-Business-Data-Warehouse\\data\\images\\_lobelia4cosmetics_2025-01-24_05-59-28.jpg: 640x640 1 bottle, 263.0ms\n",
      "image 199/236 D:\\KAIM\\Ethiopian-Medical-Business-Data-Warehouse\\data\\images\\_lobelia4cosmetics_2025-01-24_05-59-39.jpg: 640x640 1 bottle, 251.5ms\n",
      "image 200/236 D:\\KAIM\\Ethiopian-Medical-Business-Data-Warehouse\\data\\images\\_lobelia4cosmetics_2025-01-24_11-39-43.jpg: 640x512 1 cell phone, 224.4ms\n",
      "image 201/236 D:\\KAIM\\Ethiopian-Medical-Business-Data-Warehouse\\data\\images\\_lobelia4cosmetics_2025-01-24_12-44-46.jpg: 640x640 (no detections), 266.2ms\n",
      "image 202/236 D:\\KAIM\\Ethiopian-Medical-Business-Data-Warehouse\\data\\images\\_lobelia4cosmetics_2025-01-24_12-44-47.jpg: 640x640 1 person, 269.0ms\n",
      "image 203/236 D:\\KAIM\\Ethiopian-Medical-Business-Data-Warehouse\\data\\images\\_lobelia4cosmetics_2025-01-24_14-01-14.jpg: 640x640 2 bottles, 3 oranges, 277.1ms\n",
      "image 204/236 D:\\KAIM\\Ethiopian-Medical-Business-Data-Warehouse\\data\\images\\_lobelia4cosmetics_2025-01-25_03-50-13.jpg: 640x640 1 book, 269.8ms\n",
      "image 205/236 D:\\KAIM\\Ethiopian-Medical-Business-Data-Warehouse\\data\\images\\_lobelia4cosmetics_2025-01-25_03-50-14.jpg: 640x640 (no detections), 250.4ms\n",
      "image 206/236 D:\\KAIM\\Ethiopian-Medical-Business-Data-Warehouse\\data\\images\\_lobelia4cosmetics_2025-01-26_07-33-24.jpg: 640x640 1 bottle, 276.0ms\n",
      "image 207/236 D:\\KAIM\\Ethiopian-Medical-Business-Data-Warehouse\\data\\images\\_lobelia4cosmetics_2025-01-26_07-33-25.jpg: 640x640 (no detections), 281.5ms\n",
      "image 208/236 D:\\KAIM\\Ethiopian-Medical-Business-Data-Warehouse\\data\\images\\_lobelia4cosmetics_2025-01-27_05-34-02.jpg: 640x640 (no detections), 284.7ms\n",
      "image 209/236 D:\\KAIM\\Ethiopian-Medical-Business-Data-Warehouse\\data\\images\\_lobelia4cosmetics_2025-01-27_05-34-03.jpg: 640x480 4 books, 211.8ms\n",
      "image 210/236 D:\\KAIM\\Ethiopian-Medical-Business-Data-Warehouse\\data\\images\\_lobelia4cosmetics_2025-01-28_05-19-57.jpg: 640x640 1 bottle, 257.2ms\n",
      "image 211/236 D:\\KAIM\\Ethiopian-Medical-Business-Data-Warehouse\\data\\images\\_lobelia4cosmetics_2025-01-28_05-19-58.jpg: 640x640 1 vase, 264.1ms\n",
      "image 212/236 D:\\KAIM\\Ethiopian-Medical-Business-Data-Warehouse\\data\\images\\_lobelia4cosmetics_2025-01-28_07-54-58.jpg: 640x640 1 bottle, 267.3ms\n",
      "image 213/236 D:\\KAIM\\Ethiopian-Medical-Business-Data-Warehouse\\data\\images\\_lobelia4cosmetics_2025-01-28_07-54-59.jpg: 640x640 1 bottle, 267.3ms\n",
      "image 214/236 D:\\KAIM\\Ethiopian-Medical-Business-Data-Warehouse\\data\\images\\_lobelia4cosmetics_2025-01-28_07-55-08.jpg: 640x640 1 bottle, 264.0ms\n",
      "image 215/236 D:\\KAIM\\Ethiopian-Medical-Business-Data-Warehouse\\data\\images\\_lobelia4cosmetics_2025-01-28_10-54-52.jpg: 640x640 1 cake, 269.4ms\n",
      "image 216/236 D:\\KAIM\\Ethiopian-Medical-Business-Data-Warehouse\\data\\images\\_lobelia4cosmetics_2025-01-28_14-36-30.jpg: 640x640 (no detections), 285.0ms\n",
      "image 217/236 D:\\KAIM\\Ethiopian-Medical-Business-Data-Warehouse\\data\\images\\_lobelia4cosmetics_2025-01-28_14-36-31.jpg: 640x640 (no detections), 270.2ms\n",
      "image 218/236 D:\\KAIM\\Ethiopian-Medical-Business-Data-Warehouse\\data\\images\\_lobelia4cosmetics_2025-01-29_05-02-10.jpg: 640x512 2 bottles, 218.6ms\n",
      "image 219/236 D:\\KAIM\\Ethiopian-Medical-Business-Data-Warehouse\\data\\images\\_lobelia4cosmetics_2025-01-29_05-03-03.jpg: 640x640 2 bottles, 241.7ms\n",
      "image 220/236 D:\\KAIM\\Ethiopian-Medical-Business-Data-Warehouse\\data\\images\\_lobelia4cosmetics_2025-01-29_05-03-04.jpg: 640x640 2 bottles, 261.2ms\n",
      "image 221/236 D:\\KAIM\\Ethiopian-Medical-Business-Data-Warehouse\\data\\images\\_lobelia4cosmetics_2025-01-29_12-59-56.jpg: 640x640 (no detections), 278.9ms\n",
      "image 222/236 D:\\KAIM\\Ethiopian-Medical-Business-Data-Warehouse\\data\\images\\_lobelia4cosmetics_2025-01-29_13-01-26.jpg: 640x640 1 bottle, 293.2ms\n",
      "image 223/236 D:\\KAIM\\Ethiopian-Medical-Business-Data-Warehouse\\data\\images\\_lobelia4cosmetics_2025-01-30_06-32-29.jpg: 640x640 1 bottle, 1 vase, 274.6ms\n",
      "image 224/236 D:\\KAIM\\Ethiopian-Medical-Business-Data-Warehouse\\data\\images\\_lobelia4cosmetics_2025-01-30_06-32-30.jpg: 640x640 1 bottle, 1 book, 275.9ms\n",
      "image 225/236 D:\\KAIM\\Ethiopian-Medical-Business-Data-Warehouse\\data\\images\\_lobelia4cosmetics_2025-01-30_09-07-32.jpg: 640x640 1 book, 253.0ms\n",
      "image 226/236 D:\\KAIM\\Ethiopian-Medical-Business-Data-Warehouse\\data\\images\\_lobelia4cosmetics_2025-01-30_13-04-01.jpg: 640x640 (no detections), 275.1ms\n",
      "image 227/236 D:\\KAIM\\Ethiopian-Medical-Business-Data-Warehouse\\data\\images\\_lobelia4cosmetics_2025-01-30_13-04-17.jpg: 640x640 1 cup, 273.1ms\n",
      "image 228/236 D:\\KAIM\\Ethiopian-Medical-Business-Data-Warehouse\\data\\images\\_lobelia4cosmetics_2025-01-30_14-11-11.jpg: 640x640 1 cake, 267.2ms\n",
      "image 229/236 D:\\KAIM\\Ethiopian-Medical-Business-Data-Warehouse\\data\\images\\_lobelia4cosmetics_2025-01-30_14-11-12.jpg: 640x640 1 person, 263.7ms\n",
      "image 230/236 D:\\KAIM\\Ethiopian-Medical-Business-Data-Warehouse\\data\\images\\_lobelia4cosmetics_2025-01-31_05-30-28.jpg: 640x640 (no detections), 276.1ms\n",
      "image 231/236 D:\\KAIM\\Ethiopian-Medical-Business-Data-Warehouse\\data\\images\\_lobelia4cosmetics_2025-01-31_12-40-44.jpg: 640x640 (no detections), 279.0ms\n",
      "image 232/236 D:\\KAIM\\Ethiopian-Medical-Business-Data-Warehouse\\data\\images\\_lobelia4cosmetics_2025-02-01_06-06-32.jpg: 640x640 1 bottle, 265.6ms\n",
      "image 233/236 D:\\KAIM\\Ethiopian-Medical-Business-Data-Warehouse\\data\\images\\_lobelia4cosmetics_2025-02-01_06-06-33.jpg: 640x640 1 pizza, 264.0ms\n",
      "image 234/236 D:\\KAIM\\Ethiopian-Medical-Business-Data-Warehouse\\data\\images\\_lobelia4cosmetics_2025-02-01_12-21-27.jpg: 640x640 1 banana, 1 apple, 1 orange, 261.7ms\n",
      "image 235/236 D:\\KAIM\\Ethiopian-Medical-Business-Data-Warehouse\\data\\images\\_lobelia4cosmetics_2025-02-02_08-39-39.jpg: 640x640 (no detections), 278.7ms\n",
      "image 236/236 D:\\KAIM\\Ethiopian-Medical-Business-Data-Warehouse\\data\\images\\_lobelia4cosmetics_2025-02-02_08-39-40.jpg: 640x640 (no detections), 254.5ms\n",
      "Speed: 0.6ms pre-process, 256.5ms inference, 0.8ms NMS per image at shape (1, 3, 640, 640)\n",
      "Results saved to \u001b[1mresults\\run13\u001b[0m\n",
      "148 labels saved to results\\run13\\labels\n"
     ]
    }
   ],
   "source": [
    "!python ../yolov5/detect.py --weights yolov5m.pt --source ../data/images/ --save-txt --save-conf --project results --name run1"
   ]
  },
  {
   "cell_type": "markdown",
   "metadata": {},
   "source": [
    "**Create the Data YAML File**\n",
    "\n",
    "The YAML file will define paths to training and validation data, the number of classes, and their names."
   ]
  },
  {
   "cell_type": "code",
   "execution_count": 1,
   "metadata": {},
   "outputs": [],
   "source": [
    "# Define the content of the YAML file\n",
    "yaml_content = \"\"\"\n",
    "train: D:/KAIM/Ethiopian-Medical-Business-Data-Warehouse/data/train/images  # Specify the correct path to training images\n",
    "val: D:/KAIM/Ethiopian-Medical-Business-Data-Warehouse/data/valid/images    # Specify the correct path to validation images\n",
    "\n",
    "nc: 9  # Number of classes\n",
    "names: [\n",
    "  'cosmotic',\n",
    "  'food-package', \n",
    "  'supliment', \n",
    "  'formula-milk', \n",
    "  'lotion-moisturizer', \n",
    "  'medicine', \n",
    "  'mini-drop', \n",
    "  'pregnancy', \n",
    "  'other'\n",
    "]\n",
    "\"\"\""
   ]
  },
  {
   "cell_type": "code",
   "execution_count": 3,
   "metadata": {},
   "outputs": [
    {
     "name": "stdout",
     "output_type": "stream",
     "text": [
      "True\n",
      "True\n"
     ]
    }
   ],
   "source": [
    "import os\n",
    "# Write the content to a file\n",
    "with open(\"Ethiopian_Medical_DataWarehouse.yml\", \"w\") as file:\n",
    "    file.write(yaml_content)\n",
    "\n",
    "# Verify the file was created\n",
    "print(os.path.exists(\"Ethiopian_Medical_DataWarehouse.yml\"))  # Should return True\n",
    "\n",
    "# Check the existence of the image directory\n",
    "print(os.path.exists('D:/KAIM/Ethiopian-Medical-Business-Data-Warehouse/data/train/images'))  # Should return True"
   ]
  },
  {
   "cell_type": "code",
   "execution_count": 4,
   "metadata": {},
   "outputs": [
    {
     "name": "stdout",
     "output_type": "stream",
     "text": [
      "['_CheMed123_2022-09-05_09-57-09.jpg', '_CheMed123_2022-09-05_10-02-05.jpg', '_CheMed123_2022-09-05_10-02-24.jpg', '_CheMed123_2022-09-06_04-26-15.jpg', '_CheMed123_2022-09-07_09-16-40.jpg', '_CheMed123_2022-09-10_15-55-25.jpg', '_CheMed123_2022-09-16_07-42-31.jpg', '_CheMed123_2022-09-28_05-45-31.jpg', '_CheMed123_2022-09-30_07-33-42.jpg', '_CheMed123_2022-10-03_05-16-30.jpg', '_CheMed123_2022-10-06_09-23-46.jpg', '_CheMed123_2022-10-12_14-14-52.jpg', '_CheMed123_2022-10-17_14-02-40.jpg', '_CheMed123_2022-10-18_07-57-36.jpg', '_CheMed123_2022-10-20_12-24-01.jpg', '_CheMed123_2022-10-24_09-34-19.jpg', '_CheMed123_2022-10-28_06-49-36.jpg', '_CheMed123_2022-10-28_09-15-09.jpg', '_CheMed123_2022-10-29_20-26-28.jpg', '_CheMed123_2022-11-09_08-53-25.jpg', '_CheMed123_2022-11-15_05-24-41.jpg', '_CheMed123_2022-11-15_08-17-41.jpg', '_CheMed123_2022-11-15_11-51-16.jpg', '_CheMed123_2022-11-22_08-15-47.jpg', '_CheMed123_2022-11-29_07-43-06.jpg', '_CheMed123_2022-11-30_06-31-44.jpg', '_CheMed123_2022-12-01_06-47-22.jpg', '_CheMed123_2022-12-02_06-06-12.jpg', '_CheMed123_2022-12-02_13-44-41.jpg', '_CheMed123_2022-12-04_12-35-18.jpg', '_CheMed123_2022-12-05_05-57-22.jpg', '_CheMed123_2022-12-07_06-43-48.jpg', '_CheMed123_2022-12-09_04-09-49.jpg', '_CheMed123_2022-12-09_12-28-53.jpg', '_CheMed123_2022-12-13_05-55-18.jpg', '_CheMed123_2022-12-16_12-21-01.jpg', '_CheMed123_2022-12-20_07-41-33.jpg', '_CheMed123_2022-12-20_11-28-59.jpg', '_CheMed123_2022-12-20_17-25-05.jpg', '_CheMed123_2022-12-21_15-13-27.jpg', '_CheMed123_2022-12-22_03-11-26.jpg', '_CheMed123_2022-12-22_06-40-25.jpg', '_CheMed123_2022-12-23_06-26-15.jpg', '_CheMed123_2022-12-27_17-06-32.jpg', '_CheMed123_2022-12-30_15-45-35.jpg', '_CheMed123_2023-01-02_07-02-55.jpg', '_CheMed123_2023-01-03_05-48-34.jpg', '_CheMed123_2023-01-03_17-49-48.jpg', '_CheMed123_2023-01-04_05-58-02.jpg', '_CheMed123_2023-01-06_06-05-01.jpg', '_CheMed123_2023-01-06_09-31-17.jpg', '_CheMed123_2023-01-06_16-06-21.jpg', '_CheMed123_2023-01-13_09-44-14.jpg', '_CheMed123_2023-01-13_12-48-47.jpg', '_CheMed123_2023-01-16_09-26-09.jpg', '_CheMed123_2023-01-16_10-13-42.jpg', '_CheMed123_2023-01-16_13-41-35.jpg', '_CheMed123_2023-01-17_08-43-12.jpg', '_CheMed123_2023-01-23_10-39-20.jpg', '_CheMed123_2023-01-26_18-27-53.jpg', '_CheMed123_2023-01-27_07-18-40.jpg', '_CheMed123_2023-01-30_09-45-25.jpg', '_CheMed123_2023-01-31_09-19-53.jpg', '_CheMed123_2023-02-01_08-59-37.jpg', '_CheMed123_2023-02-02_08-58-52.jpg', '_CheMed123_2023-02-10_12-23-06.jpg', '_lobelia4cosmetics_2024-12-21_14-02-40.jpg', '_lobelia4cosmetics_2024-12-21_14-19-12.jpg', '_lobelia4cosmetics_2024-12-21_14-19-13.jpg', '_lobelia4cosmetics_2024-12-21_15-42-40.jpg', '_lobelia4cosmetics_2024-12-22_10-39-19.jpg', '_lobelia4cosmetics_2024-12-22_10-39-20.jpg', '_lobelia4cosmetics_2024-12-23_04-56-18.jpg', '_lobelia4cosmetics_2024-12-23_04-56-19.jpg', '_lobelia4cosmetics_2024-12-24_06-32-04.jpg', '_lobelia4cosmetics_2024-12-24_06-32-05.jpg', '_lobelia4cosmetics_2024-12-24_06-32-06.jpg', '_lobelia4cosmetics_2024-12-24_15-36-45.jpg', '_lobelia4cosmetics_2024-12-24_15-36-46.jpg', '_lobelia4cosmetics_2024-12-24_16-15-23.jpg', '_lobelia4cosmetics_2024-12-25_06-05-11.jpg', '_lobelia4cosmetics_2024-12-25_06-05-12.jpg', '_lobelia4cosmetics_2024-12-25_13-01-38.jpg', '_lobelia4cosmetics_2024-12-25_13-01-39.jpg', '_lobelia4cosmetics_2024-12-26_06-26-42.jpg', '_lobelia4cosmetics_2024-12-26_06-26-43.jpg', '_lobelia4cosmetics_2024-12-26_06-26-44.jpg', '_lobelia4cosmetics_2024-12-26_12-16-37.jpg', '_lobelia4cosmetics_2024-12-26_13-24-56.jpg', '_lobelia4cosmetics_2024-12-26_13-24-57.jpg', '_lobelia4cosmetics_2024-12-26_13-24-58.jpg', '_lobelia4cosmetics_2024-12-26_16-07-45.jpg', '_lobelia4cosmetics_2024-12-26_16-16-17.jpg', '_lobelia4cosmetics_2024-12-27_06-43-51.jpg', '_lobelia4cosmetics_2024-12-27_13-02-29.jpg', '_lobelia4cosmetics_2024-12-27_13-02-30.jpg', '_lobelia4cosmetics_2024-12-28_05-07-40.jpg', '_lobelia4cosmetics_2024-12-28_12-28-57.jpg', '_lobelia4cosmetics_2024-12-28_12-28-58.jpg', '_lobelia4cosmetics_2024-12-28_12-39-07.jpg', '_lobelia4cosmetics_2024-12-29_06-53-10.jpg', '_lobelia4cosmetics_2024-12-29_06-53-11.jpg', '_lobelia4cosmetics_2024-12-30_05-12-24.jpg', '_lobelia4cosmetics_2024-12-30_05-12-25.jpg', '_lobelia4cosmetics_2024-12-30_12-04-14.jpg', '_lobelia4cosmetics_2024-12-30_12-04-15.jpg', '_lobelia4cosmetics_2024-12-30_12-49-00.jpg', '_lobelia4cosmetics_2024-12-30_14-53-00.jpg', '_lobelia4cosmetics_2024-12-30_14-53-31.jpg', '_lobelia4cosmetics_2024-12-31_06-04-17.jpg', '_lobelia4cosmetics_2024-12-31_06-12-43.jpg', '_lobelia4cosmetics_2024-12-31_11-36-47.jpg', '_lobelia4cosmetics_2024-12-31_11-36-48.jpg', '_lobelia4cosmetics_2024-12-31_13-57-01.jpg', '_lobelia4cosmetics_2024-12-31_13-57-02.jpg', '_lobelia4cosmetics_2024-12-31_14-20-52.jpg', '_lobelia4cosmetics_2024-12-31_16-19-36.jpg', '_lobelia4cosmetics_2025-01-01_04-40-26.jpg', '_lobelia4cosmetics_2025-01-01_13-02-24.jpg', '_lobelia4cosmetics_2025-01-01_13-02-25.jpg', '_lobelia4cosmetics_2025-01-01_14-26-16.jpg', '_lobelia4cosmetics_2025-01-01_14-35-39.jpg', '_lobelia4cosmetics_2025-01-02_04-03-52.jpg', '_lobelia4cosmetics_2025-01-02_13-29-08.jpg', '_lobelia4cosmetics_2025-01-03_04-00-51.jpg', '_lobelia4cosmetics_2025-01-03_13-55-48.jpg', '_lobelia4cosmetics_2025-01-03_13-55-49.jpg', '_lobelia4cosmetics_2025-01-04_06-46-21.jpg', '_lobelia4cosmetics_2025-01-04_06-46-22.jpg', '_lobelia4cosmetics_2025-01-04_14-35-49.jpg', '_lobelia4cosmetics_2025-01-05_07-46-14.jpg', '_lobelia4cosmetics_2025-01-06_07-19-40.jpg', '_lobelia4cosmetics_2025-01-06_07-19-41.jpg', '_lobelia4cosmetics_2025-01-08_04-25-08.jpg', '_lobelia4cosmetics_2025-01-08_14-37-13.jpg', '_lobelia4cosmetics_2025-01-08_14-41-59.jpg', '_lobelia4cosmetics_2025-01-09_14-22-55.jpg', '_lobelia4cosmetics_2025-01-09_14-46-27.jpg', '_lobelia4cosmetics_2025-01-09_14-46-52.jpg', '_lobelia4cosmetics_2025-01-10_06-27-15.jpg', '_lobelia4cosmetics_2025-01-10_06-27-16.jpg', '_lobelia4cosmetics_2025-01-10_11-00-28.jpg', '_lobelia4cosmetics_2025-01-10_11-00-29.jpg', '_lobelia4cosmetics_2025-01-11_06-44-46.jpg', '_lobelia4cosmetics_2025-01-11_06-44-47.jpg', '_lobelia4cosmetics_2025-01-11_11-33-31.jpg', '_lobelia4cosmetics_2025-01-11_11-35-01.jpg', '_lobelia4cosmetics_2025-01-11_11-35-39.jpg', '_lobelia4cosmetics_2025-01-11_11-36-26.jpg', '_lobelia4cosmetics_2025-01-11_13-44-33.jpg', '_lobelia4cosmetics_2025-01-11_13-44-34.jpg', '_lobelia4cosmetics_2025-01-13_06-24-13.jpg', '_lobelia4cosmetics_2025-01-13_06-24-14.jpg', '_lobelia4cosmetics_2025-01-13_13-41-17.jpg', '_lobelia4cosmetics_2025-01-13_13-41-44.jpg', '_lobelia4cosmetics_2025-01-13_13-48-54.jpg', '_lobelia4cosmetics_2025-01-13_13-48-55.jpg', '_lobelia4cosmetics_2025-01-14_04-17-06.jpg', '_lobelia4cosmetics_2025-01-14_14-59-27.jpg', '_lobelia4cosmetics_2025-01-15_05-52-37.jpg', '_lobelia4cosmetics_2025-01-15_05-52-38.jpg', '_lobelia4cosmetics_2025-01-15_05-52-39.jpg', '_lobelia4cosmetics_2025-01-15_12-39-04.jpg', '_lobelia4cosmetics_2025-01-15_14-52-29.jpg', '_lobelia4cosmetics_2025-01-15_14-53-39.jpg', '_lobelia4cosmetics_2025-01-15_14-54-08.jpg', '_lobelia4cosmetics_2025-01-16_05-01-16.jpg', '_lobelia4cosmetics_2025-01-16_12-01-33.jpg', '_lobelia4cosmetics_2025-01-17_06-35-48.jpg', '_lobelia4cosmetics_2025-01-17_06-35-49.jpg', '_lobelia4cosmetics_2025-01-17_08-01-35.jpg', '_lobelia4cosmetics_2025-01-17_08-01-36.jpg', '_lobelia4cosmetics_2025-01-17_15-25-09.jpg', '_lobelia4cosmetics_2025-01-18_05-40-49.jpg', '_lobelia4cosmetics_2025-01-18_05-40-50.jpg', '_lobelia4cosmetics_2025-01-18_12-07-30.jpg', '_lobelia4cosmetics_2025-01-20_05-42-06.jpg', '_lobelia4cosmetics_2025-01-20_05-42-07.jpg', '_lobelia4cosmetics_2025-01-21_04-06-17.jpg', '_lobelia4cosmetics_2025-01-21_14-57-16.jpg', '_lobelia4cosmetics_2025-01-22_06-03-40.jpg', '_lobelia4cosmetics_2025-01-22_06-03-41.jpg', '_lobelia4cosmetics_2025-01-22_11-15-33.jpg', '_lobelia4cosmetics_2025-01-23_05-01-22.jpg', '_lobelia4cosmetics_2025-01-23_10-58-37.jpg', '_lobelia4cosmetics_2025-01-23_12-17-07.jpg', '_lobelia4cosmetics_2025-01-23_12-17-08.jpg', '_lobelia4cosmetics_2025-01-24_05-58-43.jpg', '_lobelia4cosmetics_2025-01-24_05-59-28.jpg', '_lobelia4cosmetics_2025-01-24_05-59-39.jpg', '_lobelia4cosmetics_2025-01-24_11-39-43.jpg', '_lobelia4cosmetics_2025-01-24_12-44-46.jpg', '_lobelia4cosmetics_2025-01-24_12-44-47.jpg', '_lobelia4cosmetics_2025-01-24_14-01-14.jpg', '_lobelia4cosmetics_2025-01-25_03-50-13.jpg', '_lobelia4cosmetics_2025-01-25_03-50-14.jpg', '_lobelia4cosmetics_2025-01-26_07-33-24.jpg', '_lobelia4cosmetics_2025-01-26_07-33-25.jpg', '_lobelia4cosmetics_2025-01-27_05-34-02.jpg', '_lobelia4cosmetics_2025-01-27_05-34-03.jpg', '_lobelia4cosmetics_2025-01-28_05-19-57.jpg', '_lobelia4cosmetics_2025-01-28_05-19-58.jpg', '_lobelia4cosmetics_2025-01-28_07-54-58.jpg', '_lobelia4cosmetics_2025-01-28_07-54-59.jpg', '_lobelia4cosmetics_2025-01-28_10-54-52.jpg', '_lobelia4cosmetics_2025-01-28_14-36-30.jpg', '_lobelia4cosmetics_2025-01-28_14-36-31.jpg', '_lobelia4cosmetics_2025-01-29_05-02-10.jpg', '_lobelia4cosmetics_2025-01-29_05-03-03.jpg', '_lobelia4cosmetics_2025-01-29_05-03-04.jpg', '_lobelia4cosmetics_2025-01-29_12-59-56.jpg', '_lobelia4cosmetics_2025-01-29_13-01-26.jpg', '_lobelia4cosmetics_2025-01-30_06-32-29.jpg', '_lobelia4cosmetics_2025-01-30_06-32-30.jpg', '_lobelia4cosmetics_2025-01-30_09-07-32.jpg', '_lobelia4cosmetics_2025-01-30_13-04-01.jpg', '_lobelia4cosmetics_2025-01-30_13-04-17.jpg', '_lobelia4cosmetics_2025-01-30_14-11-11.jpg', '_lobelia4cosmetics_2025-01-30_14-11-12.jpg', '_lobelia4cosmetics_2025-01-31_05-30-28.jpg', '_lobelia4cosmetics_2025-01-31_12-40-44.jpg', '_lobelia4cosmetics_2025-02-01_06-06-32.jpg', '_lobelia4cosmetics_2025-02-01_06-06-33.jpg', '_lobelia4cosmetics_2025-02-01_12-21-27.jpg', '_lobelia4cosmetics_2025-02-02_08-39-39.jpg', '_lobelia4cosmetics_2025-02-02_08-39-40.jpg']\n"
     ]
    }
   ],
   "source": [
    "import os\n",
    "\n",
    "# List the contents of the image directory\n",
    "print(os.listdir('D:/KAIM/Ethiopian-Medical-Business-Data-Warehouse/data/valid/images'))  # Adjust this path as necessary"
   ]
  },
  {
   "cell_type": "code",
   "execution_count": 5,
   "metadata": {},
   "outputs": [
    {
     "name": "stdout",
     "output_type": "stream",
     "text": [
      "Ultralytics 8.3.70  Python-3.12.8 torch-2.6.0+cpu CPU (11th Gen Intel Core(TM) i5-11320H 3.20GHz)\n",
      "\u001b[34m\u001b[1mengine\\trainer: \u001b[0mtask=detect, mode=train, model=yolov8n.pt, data=Ethiopian_Medical_DataWarehouse.yml, epochs=10, time=None, patience=100, batch=16, imgsz=640, save=True, save_period=-1, cache=False, device=None, workers=8, project=None, name=train8, exist_ok=False, pretrained=True, optimizer=auto, verbose=True, seed=0, deterministic=True, single_cls=False, rect=False, cos_lr=False, close_mosaic=10, resume=False, amp=True, fraction=1.0, profile=False, freeze=None, multi_scale=False, overlap_mask=True, mask_ratio=4, dropout=0.0, val=True, split=val, save_json=False, save_hybrid=False, conf=None, iou=0.7, max_det=300, half=False, dnn=False, plots=True, source=None, vid_stride=1, stream_buffer=False, visualize=False, augment=False, agnostic_nms=False, classes=None, retina_masks=False, embed=None, show=False, save_frames=False, save_txt=False, save_conf=False, save_crop=False, show_labels=True, show_conf=True, show_boxes=True, line_width=None, format=torchscript, keras=False, optimize=False, int8=False, dynamic=False, simplify=True, opset=None, workspace=None, nms=False, lr0=0.01, lrf=0.01, momentum=0.937, weight_decay=0.0005, warmup_epochs=3.0, warmup_momentum=0.8, warmup_bias_lr=0.1, box=7.5, cls=0.5, dfl=1.5, pose=12.0, kobj=1.0, nbs=64, hsv_h=0.015, hsv_s=0.7, hsv_v=0.4, degrees=0.0, translate=0.1, scale=0.5, shear=0.0, perspective=0.0, flipud=0.0, fliplr=0.5, bgr=0.0, mosaic=1.0, mixup=0.0, copy_paste=0.0, copy_paste_mode=flip, auto_augment=randaugment, erasing=0.4, crop_fraction=1.0, cfg=None, tracker=botsort.yaml, save_dir=d:\\KAIM\\Ethiopian-Medical-Business-Data-Warehouse\\runs\\detect\\train8\n",
      "Downloading https://ultralytics.com/assets/Arial.ttf to 'C:\\Users\\amenz\\AppData\\Roaming\\Ultralytics\\Arial.ttf'...\n"
     ]
    },
    {
     "name": "stderr",
     "output_type": "stream",
     "text": [
      "100%|██████████| 755k/755k [00:00<00:00, 2.06MB/s]\n"
     ]
    },
    {
     "name": "stdout",
     "output_type": "stream",
     "text": [
      "Overriding model.yaml nc=80 with nc=9\n",
      "\n",
      "                   from  n    params  module                                       arguments                     \n",
      "  0                  -1  1       464  ultralytics.nn.modules.conv.Conv             [3, 16, 3, 2]                 \n",
      "  1                  -1  1      4672  ultralytics.nn.modules.conv.Conv             [16, 32, 3, 2]                \n",
      "  2                  -1  1      7360  ultralytics.nn.modules.block.C2f             [32, 32, 1, True]             \n",
      "  3                  -1  1     18560  ultralytics.nn.modules.conv.Conv             [32, 64, 3, 2]                \n",
      "  4                  -1  2     49664  ultralytics.nn.modules.block.C2f             [64, 64, 2, True]             \n",
      "  5                  -1  1     73984  ultralytics.nn.modules.conv.Conv             [64, 128, 3, 2]               \n",
      "  6                  -1  2    197632  ultralytics.nn.modules.block.C2f             [128, 128, 2, True]           \n",
      "  7                  -1  1    295424  ultralytics.nn.modules.conv.Conv             [128, 256, 3, 2]              \n",
      "  8                  -1  1    460288  ultralytics.nn.modules.block.C2f             [256, 256, 1, True]           \n",
      "  9                  -1  1    164608  ultralytics.nn.modules.block.SPPF            [256, 256, 5]                 \n",
      " 10                  -1  1         0  torch.nn.modules.upsampling.Upsample         [None, 2, 'nearest']          \n",
      " 11             [-1, 6]  1         0  ultralytics.nn.modules.conv.Concat           [1]                           \n",
      " 12                  -1  1    148224  ultralytics.nn.modules.block.C2f             [384, 128, 1]                 \n",
      " 13                  -1  1         0  torch.nn.modules.upsampling.Upsample         [None, 2, 'nearest']          \n",
      " 14             [-1, 4]  1         0  ultralytics.nn.modules.conv.Concat           [1]                           \n",
      " 15                  -1  1     37248  ultralytics.nn.modules.block.C2f             [192, 64, 1]                  \n",
      " 16                  -1  1     36992  ultralytics.nn.modules.conv.Conv             [64, 64, 3, 2]                \n",
      " 17            [-1, 12]  1         0  ultralytics.nn.modules.conv.Concat           [1]                           \n",
      " 18                  -1  1    123648  ultralytics.nn.modules.block.C2f             [192, 128, 1]                 \n",
      " 19                  -1  1    147712  ultralytics.nn.modules.conv.Conv             [128, 128, 3, 2]              \n",
      " 20             [-1, 9]  1         0  ultralytics.nn.modules.conv.Concat           [1]                           \n",
      " 21                  -1  1    493056  ultralytics.nn.modules.block.C2f             [384, 256, 1]                 \n",
      " 22        [15, 18, 21]  1    753067  ultralytics.nn.modules.head.Detect           [9, [64, 128, 256]]           \n",
      "Model summary: 225 layers, 3,012,603 parameters, 3,012,587 gradients, 8.2 GFLOPs\n",
      "\n",
      "Transferred 319/355 items from pretrained weights\n",
      "\u001b[34m\u001b[1mTensorBoard: \u001b[0mStart with 'tensorboard --logdir d:\\KAIM\\Ethiopian-Medical-Business-Data-Warehouse\\runs\\detect\\train8', view at http://localhost:6006/\n",
      "Freezing layer 'model.22.dfl.conv.weight'\n"
     ]
    },
    {
     "name": "stderr",
     "output_type": "stream",
     "text": [
      "\u001b[34m\u001b[1mtrain: \u001b[0mScanning D:\\KAIM\\Ethiopian-Medical-Business-Data-Warehouse\\data\\train\\labels... 0 images, 226 backgrounds, 0 corrupt: 100%|██████████| 226/226 [00:00<00:00, 511.98it/s]"
     ]
    },
    {
     "name": "stdout",
     "output_type": "stream",
     "text": [
      "\u001b[34m\u001b[1mtrain: \u001b[0mWARNING  No labels found in D:\\KAIM\\Ethiopian-Medical-Business-Data-Warehouse\\data\\train\\labels.cache. See https://docs.ultralytics.com/datasets for dataset formatting guidance.\n",
      "\u001b[34m\u001b[1mtrain: \u001b[0mNew cache created: D:\\KAIM\\Ethiopian-Medical-Business-Data-Warehouse\\data\\train\\labels.cache\n",
      "WARNING  No labels found in D:\\KAIM\\Ethiopian-Medical-Business-Data-Warehouse\\data\\train\\labels.cache, training may not work correctly. See https://docs.ultralytics.com/datasets for dataset formatting guidance.\n"
     ]
    },
    {
     "name": "stderr",
     "output_type": "stream",
     "text": [
      "\n",
      "\u001b[34m\u001b[1mval: \u001b[0mScanning D:\\KAIM\\Ethiopian-Medical-Business-Data-Warehouse\\data\\valid\\labels... 0 images, 86 backgrounds, 0 corrupt: 100%|██████████| 86/86 [00:00<00:00, 645.61it/s]"
     ]
    },
    {
     "name": "stdout",
     "output_type": "stream",
     "text": [
      "\u001b[34m\u001b[1mval: \u001b[0mWARNING  No labels found in D:\\KAIM\\Ethiopian-Medical-Business-Data-Warehouse\\data\\valid\\labels.cache. See https://docs.ultralytics.com/datasets for dataset formatting guidance.\n",
      "\u001b[34m\u001b[1mval: \u001b[0mNew cache created: D:\\KAIM\\Ethiopian-Medical-Business-Data-Warehouse\\data\\valid\\labels.cache\n",
      "WARNING  No labels found in D:\\KAIM\\Ethiopian-Medical-Business-Data-Warehouse\\data\\valid\\labels.cache, training may not work correctly. See https://docs.ultralytics.com/datasets for dataset formatting guidance.\n"
     ]
    },
    {
     "name": "stderr",
     "output_type": "stream",
     "text": [
      "\n"
     ]
    },
    {
     "name": "stdout",
     "output_type": "stream",
     "text": [
      "Plotting labels to d:\\KAIM\\Ethiopian-Medical-Business-Data-Warehouse\\runs\\detect\\train8\\labels.jpg... \n",
      "zero-size array to reduction operation maximum which has no identity\n",
      "\u001b[34m\u001b[1moptimizer:\u001b[0m 'optimizer=auto' found, ignoring 'lr0=0.01' and 'momentum=0.937' and determining best 'optimizer', 'lr0' and 'momentum' automatically... \n",
      "\u001b[34m\u001b[1moptimizer:\u001b[0m AdamW(lr=0.000769, momentum=0.9) with parameter groups 57 weight(decay=0.0), 64 weight(decay=0.0005), 63 bias(decay=0.0)\n",
      "\u001b[34m\u001b[1mTensorBoard: \u001b[0mmodel graph visualization added \n",
      "Image sizes 640 train, 640 val\n",
      "Using 0 dataloader workers\n",
      "Logging results to \u001b[1md:\\KAIM\\Ethiopian-Medical-Business-Data-Warehouse\\runs\\detect\\train8\u001b[0m\n",
      "Starting training for 10 epochs...\n",
      "Closing dataloader mosaic\n",
      "\n",
      "      Epoch    GPU_mem   box_loss   cls_loss   dfl_loss  Instances       Size\n"
     ]
    },
    {
     "name": "stderr",
     "output_type": "stream",
     "text": [
      "       1/10         0G          0      117.7          0          0        640: 100%|██████████| 15/15 [00:47<00:00,  3.19s/it]\n",
      "                 Class     Images  Instances      Box(P          R      mAP50  mAP50-95): 100%|██████████| 3/3 [00:08<00:00,  2.81s/it]"
     ]
    },
    {
     "name": "stdout",
     "output_type": "stream",
     "text": [
      "                   all         86          0          0          0          0          0\n",
      "WARNING  no labels found in detect set, can not compute metrics without labels\n"
     ]
    },
    {
     "name": "stderr",
     "output_type": "stream",
     "text": [
      "\n"
     ]
    },
    {
     "name": "stdout",
     "output_type": "stream",
     "text": [
      "\n",
      "      Epoch    GPU_mem   box_loss   cls_loss   dfl_loss  Instances       Size\n"
     ]
    },
    {
     "name": "stderr",
     "output_type": "stream",
     "text": [
      "       2/10         0G          0        111          0          0        640: 100%|██████████| 15/15 [00:43<00:00,  2.92s/it]\n",
      "                 Class     Images  Instances      Box(P          R      mAP50  mAP50-95): 100%|██████████| 3/3 [00:07<00:00,  2.66s/it]"
     ]
    },
    {
     "name": "stdout",
     "output_type": "stream",
     "text": [
      "                   all         86          0          0          0          0          0\n",
      "WARNING  no labels found in detect set, can not compute metrics without labels\n"
     ]
    },
    {
     "name": "stderr",
     "output_type": "stream",
     "text": [
      "\n"
     ]
    },
    {
     "name": "stdout",
     "output_type": "stream",
     "text": [
      "\n",
      "      Epoch    GPU_mem   box_loss   cls_loss   dfl_loss  Instances       Size\n"
     ]
    },
    {
     "name": "stderr",
     "output_type": "stream",
     "text": [
      "       3/10         0G          0      105.2          0          0        640: 100%|██████████| 15/15 [00:43<00:00,  2.93s/it]\n",
      "                 Class     Images  Instances      Box(P          R      mAP50  mAP50-95): 100%|██████████| 3/3 [00:07<00:00,  2.56s/it]"
     ]
    },
    {
     "name": "stdout",
     "output_type": "stream",
     "text": [
      "                   all         86          0          0          0          0          0\n",
      "WARNING  no labels found in detect set, can not compute metrics without labels\n"
     ]
    },
    {
     "name": "stderr",
     "output_type": "stream",
     "text": [
      "\n"
     ]
    },
    {
     "name": "stdout",
     "output_type": "stream",
     "text": [
      "\n",
      "      Epoch    GPU_mem   box_loss   cls_loss   dfl_loss  Instances       Size\n"
     ]
    },
    {
     "name": "stderr",
     "output_type": "stream",
     "text": [
      "       4/10         0G          0      100.2          0          0        640: 100%|██████████| 15/15 [00:41<00:00,  2.77s/it]\n",
      "                 Class     Images  Instances      Box(P          R      mAP50  mAP50-95): 100%|██████████| 3/3 [00:08<00:00,  2.73s/it]"
     ]
    },
    {
     "name": "stdout",
     "output_type": "stream",
     "text": [
      "                   all         86          0          0          0          0          0\n",
      "WARNING  no labels found in detect set, can not compute metrics without labels\n"
     ]
    },
    {
     "name": "stderr",
     "output_type": "stream",
     "text": [
      "\n"
     ]
    },
    {
     "name": "stdout",
     "output_type": "stream",
     "text": [
      "\n",
      "      Epoch    GPU_mem   box_loss   cls_loss   dfl_loss  Instances       Size\n"
     ]
    },
    {
     "name": "stderr",
     "output_type": "stream",
     "text": [
      "       5/10         0G          0      96.94          0          0        640: 100%|██████████| 15/15 [00:42<00:00,  2.82s/it]\n",
      "                 Class     Images  Instances      Box(P          R      mAP50  mAP50-95): 100%|██████████| 3/3 [00:07<00:00,  2.53s/it]"
     ]
    },
    {
     "name": "stdout",
     "output_type": "stream",
     "text": [
      "                   all         86          0          0          0          0          0\n",
      "WARNING  no labels found in detect set, can not compute metrics without labels\n"
     ]
    },
    {
     "name": "stderr",
     "output_type": "stream",
     "text": [
      "\n"
     ]
    },
    {
     "name": "stdout",
     "output_type": "stream",
     "text": [
      "\n",
      "      Epoch    GPU_mem   box_loss   cls_loss   dfl_loss  Instances       Size\n"
     ]
    },
    {
     "name": "stderr",
     "output_type": "stream",
     "text": [
      "       6/10         0G          0      95.09          0          0        640: 100%|██████████| 15/15 [00:43<00:00,  2.92s/it]\n",
      "                 Class     Images  Instances      Box(P          R      mAP50  mAP50-95): 100%|██████████| 3/3 [00:07<00:00,  2.42s/it]"
     ]
    },
    {
     "name": "stdout",
     "output_type": "stream",
     "text": [
      "                   all         86          0          0          0          0          0\n",
      "WARNING  no labels found in detect set, can not compute metrics without labels\n"
     ]
    },
    {
     "name": "stderr",
     "output_type": "stream",
     "text": [
      "\n"
     ]
    },
    {
     "name": "stdout",
     "output_type": "stream",
     "text": [
      "\n",
      "      Epoch    GPU_mem   box_loss   cls_loss   dfl_loss  Instances       Size\n"
     ]
    },
    {
     "name": "stderr",
     "output_type": "stream",
     "text": [
      "       7/10         0G          0      92.97          0          0        640: 100%|██████████| 15/15 [00:42<00:00,  2.87s/it]\n",
      "                 Class     Images  Instances      Box(P          R      mAP50  mAP50-95): 100%|██████████| 3/3 [00:07<00:00,  2.60s/it]"
     ]
    },
    {
     "name": "stdout",
     "output_type": "stream",
     "text": [
      "                   all         86          0          0          0          0          0\n",
      "WARNING  no labels found in detect set, can not compute metrics without labels\n"
     ]
    },
    {
     "name": "stderr",
     "output_type": "stream",
     "text": [
      "\n"
     ]
    },
    {
     "name": "stdout",
     "output_type": "stream",
     "text": [
      "\n",
      "      Epoch    GPU_mem   box_loss   cls_loss   dfl_loss  Instances       Size\n"
     ]
    },
    {
     "name": "stderr",
     "output_type": "stream",
     "text": [
      "       8/10         0G          0      91.47          0          0        640: 100%|██████████| 15/15 [00:42<00:00,  2.85s/it]\n",
      "                 Class     Images  Instances      Box(P          R      mAP50  mAP50-95): 100%|██████████| 3/3 [00:07<00:00,  2.44s/it]"
     ]
    },
    {
     "name": "stdout",
     "output_type": "stream",
     "text": [
      "                   all         86          0          0          0          0          0\n",
      "WARNING  no labels found in detect set, can not compute metrics without labels\n"
     ]
    },
    {
     "name": "stderr",
     "output_type": "stream",
     "text": [
      "\n"
     ]
    },
    {
     "name": "stdout",
     "output_type": "stream",
     "text": [
      "\n",
      "      Epoch    GPU_mem   box_loss   cls_loss   dfl_loss  Instances       Size\n"
     ]
    },
    {
     "name": "stderr",
     "output_type": "stream",
     "text": [
      "       9/10         0G          0      90.44          0          0        640: 100%|██████████| 15/15 [00:41<00:00,  2.79s/it]\n",
      "                 Class     Images  Instances      Box(P          R      mAP50  mAP50-95): 100%|██████████| 3/3 [00:07<00:00,  2.41s/it]"
     ]
    },
    {
     "name": "stdout",
     "output_type": "stream",
     "text": [
      "                   all         86          0          0          0          0          0\n",
      "WARNING  no labels found in detect set, can not compute metrics without labels\n"
     ]
    },
    {
     "name": "stderr",
     "output_type": "stream",
     "text": [
      "\n"
     ]
    },
    {
     "name": "stdout",
     "output_type": "stream",
     "text": [
      "\n",
      "      Epoch    GPU_mem   box_loss   cls_loss   dfl_loss  Instances       Size\n"
     ]
    },
    {
     "name": "stderr",
     "output_type": "stream",
     "text": [
      "      10/10         0G          0      89.81          0          0        640: 100%|██████████| 15/15 [00:43<00:00,  2.91s/it]\n",
      "                 Class     Images  Instances      Box(P          R      mAP50  mAP50-95): 100%|██████████| 3/3 [00:07<00:00,  2.52s/it]"
     ]
    },
    {
     "name": "stdout",
     "output_type": "stream",
     "text": [
      "                   all         86          0          0          0          0          0\n",
      "WARNING  no labels found in detect set, can not compute metrics without labels\n"
     ]
    },
    {
     "name": "stderr",
     "output_type": "stream",
     "text": [
      "\n"
     ]
    },
    {
     "name": "stdout",
     "output_type": "stream",
     "text": [
      "\n",
      "10 epochs completed in 0.145 hours.\n",
      "Optimizer stripped from d:\\KAIM\\Ethiopian-Medical-Business-Data-Warehouse\\runs\\detect\\train8\\weights\\last.pt, 6.2MB\n",
      "Optimizer stripped from d:\\KAIM\\Ethiopian-Medical-Business-Data-Warehouse\\runs\\detect\\train8\\weights\\best.pt, 6.2MB\n",
      "\n",
      "Validating d:\\KAIM\\Ethiopian-Medical-Business-Data-Warehouse\\runs\\detect\\train8\\weights\\best.pt...\n",
      "Ultralytics 8.3.70  Python-3.12.8 torch-2.6.0+cpu CPU (11th Gen Intel Core(TM) i5-11320H 3.20GHz)\n",
      "Model summary (fused): 168 layers, 3,007,403 parameters, 0 gradients, 8.1 GFLOPs\n"
     ]
    },
    {
     "name": "stderr",
     "output_type": "stream",
     "text": [
      "                 Class     Images  Instances      Box(P          R      mAP50  mAP50-95): 100%|██████████| 3/3 [00:07<00:00,  2.38s/it]"
     ]
    },
    {
     "name": "stdout",
     "output_type": "stream",
     "text": [
      "                   all         86          0          0          0          0          0\n",
      "WARNING  no labels found in detect set, can not compute metrics without labels\n"
     ]
    },
    {
     "name": "stderr",
     "output_type": "stream",
     "text": [
      "\n"
     ]
    },
    {
     "name": "stdout",
     "output_type": "stream",
     "text": [
      "Speed: 0.8ms preprocess, 54.0ms inference, 0.0ms loss, 12.0ms postprocess per image\n",
      "Results saved to \u001b[1md:\\KAIM\\Ethiopian-Medical-Business-Data-Warehouse\\runs\\detect\\train8\u001b[0m\n"
     ]
    }
   ],
   "source": [
    "from ultralytics import YOLO\n",
    "\n",
    "# Load a coco pretrained YOLOv8 model\n",
    "model = YOLO(\"yolov8n.pt\")\n",
    "\n",
    "# Train the model on the specified dataset\n",
    "results = model.train(data=\"Ethiopian_Medical_DataWarehouse.yml\", epochs=10, imgsz=640)"
   ]
  }
 ],
 "metadata": {
  "kernelspec": {
   "display_name": "ethiopian-medical-data-warehouse",
   "language": "python",
   "name": "python3"
  },
  "language_info": {
   "codemirror_mode": {
    "name": "ipython",
    "version": 3
   },
   "file_extension": ".py",
   "mimetype": "text/x-python",
   "name": "python",
   "nbconvert_exporter": "python",
   "pygments_lexer": "ipython3",
   "version": "3.12.8"
  }
 },
 "nbformat": 4,
 "nbformat_minor": 2
}
